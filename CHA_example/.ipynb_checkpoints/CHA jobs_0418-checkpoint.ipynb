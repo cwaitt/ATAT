{
 "cells": [
  {
   "cell_type": "markdown",
   "metadata": {},
   "source": [
    "### Before start, please replace every folder path"
   ]
  },
  {
   "cell_type": "code",
   "execution_count": 1,
   "metadata": {},
   "outputs": [
    {
     "ename": "FileNotFoundError",
     "evalue": "[Errno 2] No such file or directory: 'lattice.p'",
     "output_type": "error",
     "traceback": [
      "\u001b[0;31m---------------------------------------------------------------------------\u001b[0m",
      "\u001b[0;31mFileNotFoundError\u001b[0m                         Traceback (most recent call last)",
      "\u001b[0;32m<ipython-input-1-d44aa39eeadf>\u001b[0m in \u001b[0;36m<module>\u001b[0;34m()\u001b[0m\n\u001b[1;32m     22\u001b[0m \u001b[0;32mfrom\u001b[0m \u001b[0mclasses\u001b[0m \u001b[0;32mimport\u001b[0m \u001b[0;34m*\u001b[0m\u001b[0;34m\u001b[0m\u001b[0m\n\u001b[1;32m     23\u001b[0m \u001b[0;34m\u001b[0m\u001b[0m\n\u001b[0;32m---> 24\u001b[0;31m \u001b[0mlattice\u001b[0m\u001b[0;34m=\u001b[0m\u001b[0mpickle\u001b[0m\u001b[0;34m.\u001b[0m\u001b[0mload\u001b[0m\u001b[0;34m(\u001b[0m\u001b[0mopen\u001b[0m\u001b[0;34m(\u001b[0m\u001b[0;34m'lattice.p'\u001b[0m\u001b[0;34m,\u001b[0m\u001b[0;34m'rb'\u001b[0m\u001b[0;34m)\u001b[0m\u001b[0;34m)\u001b[0m\u001b[0;34m\u001b[0m\u001b[0m\n\u001b[0m\u001b[1;32m     25\u001b[0m \u001b[0mstructure\u001b[0m\u001b[0;34m=\u001b[0m\u001b[0mpickle\u001b[0m\u001b[0;34m.\u001b[0m\u001b[0mload\u001b[0m\u001b[0;34m(\u001b[0m\u001b[0mopen\u001b[0m\u001b[0;34m(\u001b[0m\u001b[0;34m'structure.p'\u001b[0m\u001b[0;34m,\u001b[0m\u001b[0;34m'rb'\u001b[0m\u001b[0;34m)\u001b[0m\u001b[0;34m)\u001b[0m\u001b[0;34m\u001b[0m\u001b[0m\n\u001b[1;32m     26\u001b[0m \u001b[0mpenalty\u001b[0m\u001b[0;34m=\u001b[0m\u001b[0mpickle\u001b[0m\u001b[0;34m.\u001b[0m\u001b[0mload\u001b[0m\u001b[0;34m(\u001b[0m\u001b[0mopen\u001b[0m\u001b[0;34m(\u001b[0m\u001b[0;34m'penalty.p'\u001b[0m\u001b[0;34m,\u001b[0m \u001b[0;34m'rb'\u001b[0m\u001b[0;34m)\u001b[0m\u001b[0;34m)\u001b[0m\u001b[0;34m\u001b[0m\u001b[0m\n",
      "\u001b[0;31mFileNotFoundError\u001b[0m: [Errno 2] No such file or directory: 'lattice.p'"
     ]
    }
   ],
   "source": [
    "import pandas as pd\n",
    "import numpy as np\n",
    "import copy\n",
    "from math import *\n",
    "import os\n",
    "import random\n",
    "from collections import defaultdict\n",
    "import csv\n",
    "from functools import reduce\n",
    "from copy import deepcopy\n",
    "import pickle\n",
    "from timeit import default_timer as timer\n",
    "from matplotlib import pyplot as plt\n",
    "from ase import Atoms\n",
    "from ase.io import read\n",
    "from ase.io import write\n",
    "from ase.visualize import view\n",
    "import itertools\n",
    "import time\n",
    "\n",
    "from utilities import *\n",
    "from classes import *\n",
    "\n",
    "lattice=pickle.load(open('lattice.p','rb'))\n",
    "structure=pickle.load(open('structure.p','rb'))\n",
    "penalty=pickle.load(open('penalty.p', 'rb'))\n",
    "\n",
    "Al_num = int(round(1/(1+3)*972))\n",
    "num_vecs = 1\n",
    "num_steps = 5\n",
    "\n",
    "str_vecs = structure.random_config_swap(atom_num=Al_num, penalty=penalty, num_vecs=num_vecs, num_step=num_steps)\n"
   ]
  },
  {
   "cell_type": "code",
   "execution_count": 6,
   "metadata": {
    "collapsed": true
   },
   "outputs": [],
   "source": [
    "counting_types = []\n",
    "count_result = structure.count_clusters_multi_configs(str_vecs, counting_types=counting_types)"
   ]
  },
  {
   "cell_type": "code",
   "execution_count": 9,
   "metadata": {
    "collapsed": true
   },
   "outputs": [],
   "source": [
    "pickle.dump(dict(count_result), open('test.p','wb'))"
   ]
  },
  {
   "cell_type": "code",
   "execution_count": 7,
   "metadata": {},
   "outputs": [
    {
     "data": {
      "text/plain": [
       "defaultdict(<function classes.Structure.count_clusters_multi_configs.<locals>.<lambda>>,\n",
       "            {'1-1': [243, 243, 243, 243, 243, 243, 243, 243, 243, 243],\n",
       "             '2-1': [24, 23, 28, 29, 20, 21, 24, 24, 29, 19],\n",
       "             '2-10': [19, 24, 26, 30, 34, 30, 23, 33, 32, 23],\n",
       "             '2-11': [32, 30, 25, 25, 34, 32, 36, 32, 28, 30],\n",
       "             '2-12': [28, 26, 27, 35, 29, 29, 32, 21, 30, 28],\n",
       "             '2-13': [64, 67, 76, 61, 65, 68, 56, 63, 55, 57],\n",
       "             '2-14': [26, 34, 26, 36, 29, 36, 30, 30, 35, 27],\n",
       "             '2-15': [35, 36, 33, 30, 26, 42, 30, 24, 37, 34],\n",
       "             '2-16': [59, 58, 73, 52, 56, 62, 65, 67, 62, 59],\n",
       "             '2-17': [63, 55, 61, 60, 57, 58, 55, 61, 61, 58],\n",
       "             '2-18': [54, 67, 62, 66, 66, 61, 59, 54, 57, 59],\n",
       "             '2-19': [35, 29, 32, 35, 28, 32, 26, 24, 36, 32],\n",
       "             '2-2': [22, 16, 24, 25, 30, 25, 27, 28, 29, 15],\n",
       "             '2-20': [29, 38, 30, 32, 35, 26, 34, 26, 35, 34],\n",
       "             '2-21': [34, 33, 25, 32, 27, 26, 37, 24, 27, 34],\n",
       "             '2-22': [53, 60, 64, 68, 57, 58, 62, 63, 60, 50],\n",
       "             '2-23': [26, 30, 28, 24, 33, 32, 27, 29, 37, 35],\n",
       "             '2-24': [34, 31, 25, 32, 35, 28, 35, 35, 33, 25],\n",
       "             '2-25': [55, 62, 65, 60, 55, 68, 55, 50, 52, 63],\n",
       "             '2-26': [55, 54, 72, 61, 55, 58, 69, 54, 59, 52],\n",
       "             '2-27': [53, 55, 59, 60, 59, 60, 55, 59, 57, 53],\n",
       "             '2-28': [60, 58, 60, 62, 54, 70, 66, 68, 60, 72],\n",
       "             '2-29': [25, 24, 32, 28, 31, 32, 33, 35, 33, 37],\n",
       "             '2-3': [26, 19, 27, 19, 21, 30, 23, 28, 21, 21],\n",
       "             '2-30': [63, 53, 70, 60, 67, 62, 57, 53, 59, 56],\n",
       "             '2-31': [62, 61, 58, 57, 63, 61, 50, 73, 58, 55],\n",
       "             '2-32': [62, 63, 58, 62, 52, 67, 62, 54, 63, 60],\n",
       "             '2-33': [67, 61, 56, 55, 66, 63, 53, 65, 56, 53],\n",
       "             '2-34': [60, 54, 57, 66, 60, 61, 54, 49, 56, 53],\n",
       "             '2-35': [70, 63, 67, 56, 52, 62, 67, 50, 52, 62],\n",
       "             '2-36': [57, 70, 66, 71, 66, 61, 62, 66, 51, 56],\n",
       "             '2-37': [66, 54, 51, 54, 70, 58, 69, 70, 61, 56],\n",
       "             '2-38': [70, 73, 62, 74, 59, 60, 68, 61, 64, 70],\n",
       "             '2-39': [60, 67, 68, 58, 63, 71, 63, 57, 72, 54],\n",
       "             '2-4': [24, 30, 25, 30, 24, 27, 24, 28, 23, 26],\n",
       "             '2-40': [43, 69, 60, 47, 72, 60, 66, 63, 65, 64],\n",
       "             '2-5': [67, 69, 56, 54, 60, 62, 67, 66, 55, 64],\n",
       "             '2-6': [26, 29, 29, 35, 30, 34, 32, 22, 28, 30],\n",
       "             '2-7': [52, 53, 61, 61, 61, 53, 58, 60, 57, 64],\n",
       "             '2-8': [83, 59, 61, 43, 60, 67, 68, 60, 62, 66],\n",
       "             '2-9': [68, 57, 53, 59, 62, 61, 66, 69, 60, 65]})"
      ]
     },
     "execution_count": 7,
     "metadata": {},
     "output_type": "execute_result"
    }
   ],
   "source": [
    "count_result"
   ]
  },
  {
   "cell_type": "code",
   "execution_count": 10,
   "metadata": {
    "collapsed": true
   },
   "outputs": [],
   "source": [
    "py_template = '''import pandas as pd\n",
    "import numpy as np\n",
    "import copy\n",
    "from math import *\n",
    "import os\n",
    "import random\n",
    "from collections import defaultdict\n",
    "import csv\n",
    "from functools import reduce\n",
    "from copy import deepcopy\n",
    "import pickle\n",
    "from timeit import default_timer as timer\n",
    "from matplotlib import pyplot as plt\n",
    "from ase import Atoms\n",
    "from ase.io import read\n",
    "from ase.io import write\n",
    "from ase.visualize import view\n",
    "import itertools\n",
    "import time\n",
    "\n",
    "from utilities import *\n",
    "from classes import *\n",
    "\n",
    "lattice=pickle.load(open('lattice.p','rb'))\n",
    "structure=pickle.load(open('structure.p','rb'))\n",
    "penalty=pickle.load(open('penalty.p', 'rb'))\n",
    "\n",
    "Al_num = int(round(1/(1+{0})*972))\n",
    "num_vecs = 100\n",
    "num_steps = 5000\n",
    "\n",
    "str_vecs = structure.random_config_swap(atom_num=Al_num, penalty=penalty, num_vecs=num_vecs, num_step=num_steps)\n",
    "    \n",
    "pickle.dump(str_vecs, open('str_vecs_no1NN_SiAlratio{0}_{1}.p','wb'))\n",
    "\n",
    "counting_types = []\n",
    "count_result = structure.count_clusters_multi_configs(str_vecs, counting_types=counting_types)\n",
    "\n",
    "pickle.dump(dict(count_result), open('count_result_no1NN_SiAlratio{0}_{1}.p','wb'))\n",
    "\n",
    "'''"
   ]
  },
  {
   "cell_type": "code",
   "execution_count": 11,
   "metadata": {
    "collapsed": true
   },
   "outputs": [],
   "source": [
    "qscript_template = '''#!/bin/bash\n",
    "#$ -q *@@crc\n",
    "#$ -pe smp 1\n",
    "python J_{0}_{1}.py\n",
    "'''"
   ]
  },
  {
   "cell_type": "code",
   "execution_count": 12,
   "metadata": {
    "collapsed": true
   },
   "outputs": [],
   "source": [
    "ratios = [3,5,7,10,15,20,25,30,35,40]"
   ]
  },
  {
   "cell_type": "code",
   "execution_count": 18,
   "metadata": {
    "collapsed": true,
    "scrolled": true
   },
   "outputs": [],
   "source": [
    "for ratio in ratios:\n",
    "    for i in range(1,101):\n",
    "        filename = 'CHA_36/3by3by3/jobs/J_{}_{}.py'.format(ratio,i)\n",
    "        with open(filename, 'w+') as file:\n",
    "            file.write(py_template.format(ratio,i))\n",
    "        filename =  'CHA_36/3by3by3/jobs/J_{}_{}.sh'.format(ratio,i)\n",
    "        with open(filename, 'w+') as file:\n",
    "            file.write(qscript_template.format(ratio,i))    "
   ]
  },
  {
   "cell_type": "code",
   "execution_count": 95,
   "metadata": {
    "collapsed": true
   },
   "outputs": [],
   "source": [
    "py_template = '''import pandas as pd\n",
    "import numpy as np\n",
    "import copy\n",
    "from math import *\n",
    "import os\n",
    "import random\n",
    "from collections import defaultdict\n",
    "import csv\n",
    "from functools import reduce\n",
    "from copy import deepcopy\n",
    "import pickle\n",
    "from timeit import default_timer as timer\n",
    "from matplotlib import pyplot as plt\n",
    "from ase import Atoms\n",
    "from ase.io import read\n",
    "from ase.io import write\n",
    "from ase.visualize import view\n",
    "import itertools\n",
    "import time\n",
    "\n",
    "from utilities import *\n",
    "from classes import *\n",
    "\n",
    "lattice=pickle.load(open('lattice.p','rb'))\n",
    "structure=pickle.load(open('structure.p','rb'))\n",
    "penalty=pickle.load(open('penalty.p', 'rb'))\n",
    "\n",
    "str_vecs = pickle.load(open('jobs/str_vecs_no1NN_SiAlratio{0}_{1}.p','rb'))\n",
    "titration_groups=[['2-11','2-7']]\n",
    "titration_results=structure.titrate_clusters_multi_configs(str_vecs, titration_groups= titration_groups,titrate_num=1,hist=1)\n",
    "pickle.dump(titration_results, open('6MR/titration_results_{0}_{1}.p','wb'))\n",
    "\n",
    "'''"
   ]
  },
  {
   "cell_type": "code",
   "execution_count": 80,
   "metadata": {
    "collapsed": true
   },
   "outputs": [],
   "source": [
    "py_template = '''import pandas as pd\n",
    "import numpy as np\n",
    "import copy\n",
    "from math import *\n",
    "import os\n",
    "import random\n",
    "from collections import defaultdict\n",
    "import csv\n",
    "from functools import reduce\n",
    "from copy import deepcopy\n",
    "import pickle\n",
    "from timeit import default_timer as timer\n",
    "from matplotlib import pyplot as plt\n",
    "from ase import Atoms\n",
    "from ase.io import read\n",
    "from ase.io import write\n",
    "from ase.visualize import view\n",
    "import itertools\n",
    "import time\n",
    "\n",
    "from utilities import *\n",
    "from classes import *\n",
    "\n",
    "lattice=pickle.load(open('lattice.p','rb'))\n",
    "structure=pickle.load(open('structure.p','rb'))\n",
    "penalty=pickle.load(open('penalty.p', 'rb'))\n",
    "\n",
    "Al_num = int(round(1/(1+{0})*972))\n",
    "num_vecs = 100\n",
    "num_steps = 5000\n",
    "\n",
    "str_vecs = structure.random_config_swap(atom_num=Al_num, penalty=penalty, num_vecs=num_vecs, num_step=num_steps)\n",
    "    \n",
    "pickle.dump(str_vecs, open('str_vecs_no1NN_SiAlratio{0}_{1}.p','wb'))\n",
    "\n",
    "'''"
   ]
  },
  {
   "cell_type": "code",
   "execution_count": 96,
   "metadata": {
    "collapsed": true
   },
   "outputs": [],
   "source": [
    "qscript_template = '''#!/bin/bash\n",
    "#$ -q long\n",
    "#$ -pe smp 1\n",
    "#$ -t 1-100\n",
    "#$ -l h=!q16copt*\n",
    "\n",
    "python J_{0}_$SGE_TASK_ID.py\n",
    "'''"
   ]
  },
  {
   "cell_type": "code",
   "execution_count": 97,
   "metadata": {
    "collapsed": true
   },
   "outputs": [],
   "source": [
    "ratios = [3,5,7,10,15,20,25,30,35,40]"
   ]
  },
  {
   "cell_type": "code",
   "execution_count": 83,
   "metadata": {
    "collapsed": true
   },
   "outputs": [],
   "source": [
    "for ratio in ratios:\n",
    "    for i in range(1,101):\n",
    "        filename = 'CHA_36/3by3by3/jobs/J_{}_{}.py'.format(ratio,i)\n",
    "        with open(filename, 'w+') as file:\n",
    "            file.write(py_template.format(ratio,i))\n",
    "    filename =  'CHA_36/3by3by3/jobs/J_{}.sh'.format(ratio)\n",
    "    with open(filename, 'w+') as file:\n",
    "        file.write(qscript_template.format(ratio,i))    "
   ]
  },
  {
   "cell_type": "code",
   "execution_count": 98,
   "metadata": {
    "collapsed": true
   },
   "outputs": [],
   "source": [
    "for ratio in ratios:\n",
    "    for i in range(1,101):\n",
    "        filename = 'CHA_36/3by3by3/J_{}_{}.py'.format(ratio,i)\n",
    "        with open(filename, 'w+') as file:\n",
    "            file.write(py_template.format(ratio,i))\n",
    "    filename =  'CHA_36/3by3by3/J_{}.sh'.format(ratio)\n",
    "    with open(filename, 'w+') as file:\n",
    "        file.write(qscript_template.format(ratio,i))    "
   ]
  },
  {
   "cell_type": "code",
   "execution_count": 53,
   "metadata": {
    "collapsed": true
   },
   "outputs": [],
   "source": [
    "c=pickle.load(open('CHA_36/3by3by3/Fe_titration/order2/titration_results_3_1.p','rb'))"
   ]
  },
  {
   "cell_type": "code",
   "execution_count": 54,
   "metadata": {},
   "outputs": [
    {
     "data": {
      "text/plain": [
       "22.18"
      ]
     },
     "execution_count": 54,
     "metadata": {},
     "output_type": "execute_result"
    }
   ],
   "source": [
    "np.mean(c['2-11'])"
   ]
  },
  {
   "cell_type": "code",
   "execution_count": 44,
   "metadata": {},
   "outputs": [
    {
     "data": {
      "text/plain": [
       "39.75"
      ]
     },
     "execution_count": 44,
     "metadata": {},
     "output_type": "execute_result"
    }
   ],
   "source": [
    "np.mean(c['2-7'])"
   ]
  },
  {
   "cell_type": "code",
   "execution_count": 46,
   "metadata": {},
   "outputs": [
    {
     "data": {
      "text/plain": [
       "22.27"
      ]
     },
     "execution_count": 46,
     "metadata": {},
     "output_type": "execute_result"
    }
   ],
   "source": [
    "np.mean(c['2-20'])"
   ]
  },
  {
   "cell_type": "code",
   "execution_count": null,
   "metadata": {
    "collapsed": true
   },
   "outputs": [],
   "source": []
  },
  {
   "cell_type": "code",
   "execution_count": null,
   "metadata": {
    "collapsed": true
   },
   "outputs": [],
   "source": []
  },
  {
   "cell_type": "code",
   "execution_count": 1,
   "metadata": {
    "collapsed": true
   },
   "outputs": [],
   "source": [
    "py_template = '''import pandas as pd\n",
    "import numpy as np\n",
    "import copy\n",
    "from math import *\n",
    "import os\n",
    "import random\n",
    "from collections import defaultdict\n",
    "import csv\n",
    "from functools import reduce\n",
    "from copy import deepcopy\n",
    "import pickle\n",
    "from timeit import default_timer as timer\n",
    "from matplotlib import pyplot as plt\n",
    "from ase import Atoms\n",
    "from ase.io import read\n",
    "from ase.io import write\n",
    "from ase.visualize import view\n",
    "import itertools\n",
    "import time\n",
    "\n",
    "from utilities import *\n",
    "from classes import *\n",
    "\n",
    "lattice=pickle.load(open('lattice.p','rb'))\n",
    "structure=pickle.load(open('structure.p','rb'))\n",
    "penalty=pickle.load(open('penalty.p', 'rb'))\n",
    "\n",
    "str_vecs = pickle.load(open('jobs/str_vecs_no1NN_SiAlratio{0}_{1}.p','rb'))\n",
    "titration_groups=[['2-11'],['2-15'],['2-18'],['2-20'],['2-8'],['2-19'],['2-7'],['2-9'],['2-21']]\n",
    "titration_results=structure.titrate_clusters_multi_configs(str_vecs, titration_groups= titration_groups,titrate_num=1,hist=1)\n",
    "pickle.dump(titration_results, open('titration_9cluster/titration_results_{0}_{1}.p','wb'))\n",
    "\n",
    "'''"
   ]
  },
  {
   "cell_type": "code",
   "execution_count": 2,
   "metadata": {
    "collapsed": true
   },
   "outputs": [],
   "source": [
    "qscript_template = '''#!/bin/bash\n",
    "#$ -q long\n",
    "#$ -pe smp 1\n",
    "#$ -t 1-100\n",
    "#$ -l h=!q16copt*\n",
    "\n",
    "python Titration_J_{0}_$SGE_TASK_ID.py\n",
    "'''"
   ]
  },
  {
   "cell_type": "code",
   "execution_count": 3,
   "metadata": {
    "collapsed": true
   },
   "outputs": [],
   "source": [
    "ratios = [3,5,7,10,15,20,25,30,35,40]"
   ]
  },
  {
   "cell_type": "code",
   "execution_count": 4,
   "metadata": {
    "collapsed": true
   },
   "outputs": [],
   "source": [
    "for ratio in ratios:\n",
    "    for i in range(1,101):\n",
    "        filename = 'CHA_36/3by3by3/Titration_J_{}_{}.py'.format(ratio,i)\n",
    "        with open(filename, 'w+') as file:\n",
    "            file.write(py_template.format(ratio,i))\n",
    "    filename =  'CHA_36/3by3by3/Titration_J_{}.sh'.format(ratio)\n",
    "    with open(filename, 'w+') as file:\n",
    "        file.write(qscript_template.format(ratio,i))    "
   ]
  },
  {
   "cell_type": "code",
   "execution_count": null,
   "metadata": {
    "collapsed": true
   },
   "outputs": [],
   "source": []
  },
  {
   "cell_type": "code",
   "execution_count": null,
   "metadata": {
    "collapsed": true
   },
   "outputs": [],
   "source": []
  },
  {
   "cell_type": "code",
   "execution_count": 298,
   "metadata": {
    "collapsed": true
   },
   "outputs": [],
   "source": [
    "import pandas as pd\n",
    "import numpy as np\n",
    "import copy\n",
    "from math import *\n",
    "import os\n",
    "import random\n",
    "from collections import defaultdict\n",
    "import csv\n",
    "from functools import reduce\n",
    "from copy import deepcopy\n",
    "import pickle\n",
    "from timeit import default_timer as timer\n",
    "from matplotlib import pyplot as plt\n",
    "from ase import Atoms\n",
    "from ase.io import read\n",
    "from ase.io import write\n",
    "from ase.visualize import view\n",
    "import itertools\n",
    "import time\n",
    "\n",
    "from utilities import *\n",
    "from classes import *\n",
    "\n",
    "lattice=pickle.load(open('lattice.p','rb'))\n",
    "structure=pickle.load(open('structure.p','rb'))\n",
    "penalty=pickle.load(open('penalty.p', 'rb'))\n",
    "\n",
    "str_vecs = pickle.load(open('CHA_36/3by3by3/jobs/str_vecs_no1NN_SiAlratio40_1.p','rb'))\n",
    "titration_groups=[['2-11'],['2-15'],['2-18'],['2-20'],['2-8'],['2-7'],['2-9'],['2-21']]\n",
    "titration_results=structure.titrate_clusters_multi_configs(str_vecs[:1], titration_groups= titration_groups,titrate_num=1,hist=1)\n",
    "pickle.dump(titration_results, open('test.p','wb'))\n"
   ]
  },
  {
   "cell_type": "code",
   "execution_count": 299,
   "metadata": {
    "collapsed": true
   },
   "outputs": [],
   "source": [
    "c=pickle.load(open('test.p','rb'))"
   ]
  },
  {
   "cell_type": "code",
   "execution_count": 300,
   "metadata": {},
   "outputs": [
    {
     "data": {
      "text/plain": [
       "{'2-11': [[1]],\n",
       " '2-15': [[0]],\n",
       " '2-18': [[0]],\n",
       " '2-20': [[0]],\n",
       " '2-21': [[1]],\n",
       " '2-7': [[0]],\n",
       " '2-8': [[1]],\n",
       " '2-9': [[0]]}"
      ]
     },
     "execution_count": 300,
     "metadata": {},
     "output_type": "execute_result"
    }
   ],
   "source": [
    "c"
   ]
  },
  {
   "cell_type": "code",
   "execution_count": 174,
   "metadata": {
    "collapsed": true
   },
   "outputs": [],
   "source": [
    "types=['2-11','2-15','2-18','2-20','2-8','2-7','2-9','2-21']\n",
    "N=[500,400,350,300,100]\n",
    "mean=[[] for _ in range(len(N))]\n",
    "std=[[] for _ in range(len(N))]\n",
    "for l in range (0,len(N)):\n",
    "    for i in types:\n",
    "        for j in range (0,5):\n",
    "            tem=[]\n",
    "            for k in range (0,N[l]):\n",
    "                tem.append(c[i][j][k])\n",
    "            mean[l].append(np.mean(tem))\n",
    "            std[l].append(np.std(tem)/np.sqrt(N[l]))\n",
    "with open(\"mean3-2.csv\", 'w') as resultFile:\n",
    "    w = csv.writer(resultFile, dialect='excel')\n",
    "    w.writerows(mean)\n",
    "with open(\"std3-2.csv\", 'w') as resultFile:\n",
    "    w = csv.writer(resultFile, dialect='excel')\n",
    "    w.writerows(std)"
   ]
  },
  {
   "cell_type": "code",
   "execution_count": 146,
   "metadata": {
    "collapsed": true
   },
   "outputs": [
    {
     "data": {
      "text/plain": [
       "[21,\n",
       " 21,\n",
       " 21,\n",
       " 21,\n",
       " 21,\n",
       " 21,\n",
       " 21,\n",
       " 21,\n",
       " 21,\n",
       " 21,\n",
       " 21,\n",
       " 21,\n",
       " 21,\n",
       " 21,\n",
       " 21,\n",
       " 21,\n",
       " 21,\n",
       " 21,\n",
       " 21,\n",
       " 21,\n",
       " 21,\n",
       " 21,\n",
       " 21,\n",
       " 21,\n",
       " 21,\n",
       " 21,\n",
       " 21,\n",
       " 21,\n",
       " 21,\n",
       " 21,\n",
       " 21,\n",
       " 21,\n",
       " 21,\n",
       " 21,\n",
       " 21,\n",
       " 21,\n",
       " 21,\n",
       " 21,\n",
       " 21,\n",
       " 21,\n",
       " 21,\n",
       " 21,\n",
       " 21,\n",
       " 21,\n",
       " 21,\n",
       " 21,\n",
       " 21,\n",
       " 21,\n",
       " 21,\n",
       " 21,\n",
       " 21,\n",
       " 21,\n",
       " 21,\n",
       " 21,\n",
       " 21,\n",
       " 21,\n",
       " 21,\n",
       " 21,\n",
       " 21,\n",
       " 21,\n",
       " 21,\n",
       " 21,\n",
       " 21,\n",
       " 21,\n",
       " 21,\n",
       " 21,\n",
       " 21,\n",
       " 21,\n",
       " 21,\n",
       " 21,\n",
       " 21,\n",
       " 21,\n",
       " 21,\n",
       " 21,\n",
       " 21,\n",
       " 21,\n",
       " 21,\n",
       " 21,\n",
       " 21,\n",
       " 21,\n",
       " 21,\n",
       " 21,\n",
       " 21,\n",
       " 21,\n",
       " 21,\n",
       " 21,\n",
       " 21,\n",
       " 21,\n",
       " 21,\n",
       " 21,\n",
       " 21,\n",
       " 21,\n",
       " 21,\n",
       " 21,\n",
       " 21,\n",
       " 21,\n",
       " 21,\n",
       " 21,\n",
       " 21,\n",
       " 21,\n",
       " 21,\n",
       " 21,\n",
       " 21,\n",
       " 21,\n",
       " 21,\n",
       " 21,\n",
       " 21,\n",
       " 21,\n",
       " 21,\n",
       " 21,\n",
       " 21,\n",
       " 21,\n",
       " 21,\n",
       " 21,\n",
       " 21,\n",
       " 21,\n",
       " 21,\n",
       " 21,\n",
       " 21,\n",
       " 21,\n",
       " 21,\n",
       " 21,\n",
       " 21,\n",
       " 21,\n",
       " 21,\n",
       " 21,\n",
       " 21,\n",
       " 21,\n",
       " 21,\n",
       " 21,\n",
       " 21,\n",
       " 21,\n",
       " 21,\n",
       " 21,\n",
       " 21,\n",
       " 21,\n",
       " 21,\n",
       " 21,\n",
       " 21,\n",
       " 21,\n",
       " 21,\n",
       " 21,\n",
       " 21,\n",
       " 21,\n",
       " 21,\n",
       " 21,\n",
       " 21,\n",
       " 21,\n",
       " 21,\n",
       " 21,\n",
       " 21,\n",
       " 21,\n",
       " 21,\n",
       " 21,\n",
       " 21,\n",
       " 21,\n",
       " 21,\n",
       " 21,\n",
       " 21,\n",
       " 21,\n",
       " 21,\n",
       " 21,\n",
       " 21,\n",
       " 21,\n",
       " 21,\n",
       " 21,\n",
       " 21,\n",
       " 21,\n",
       " 21,\n",
       " 21,\n",
       " 21,\n",
       " 21,\n",
       " 21,\n",
       " 21,\n",
       " 21,\n",
       " 21,\n",
       " 21,\n",
       " 21,\n",
       " 21,\n",
       " 21,\n",
       " 21,\n",
       " 21,\n",
       " 21,\n",
       " 21,\n",
       " 21,\n",
       " 21,\n",
       " 21,\n",
       " 21,\n",
       " 21,\n",
       " 21,\n",
       " 21,\n",
       " 21,\n",
       " 21,\n",
       " 21,\n",
       " 21,\n",
       " 21,\n",
       " 21,\n",
       " 21,\n",
       " 21,\n",
       " 21,\n",
       " 21,\n",
       " 21,\n",
       " 21,\n",
       " 21,\n",
       " 21,\n",
       " 21,\n",
       " 21,\n",
       " 21,\n",
       " 21,\n",
       " 21,\n",
       " 21,\n",
       " 21,\n",
       " 21,\n",
       " 21,\n",
       " 21,\n",
       " 21,\n",
       " 21,\n",
       " 21,\n",
       " 21,\n",
       " 21,\n",
       " 21,\n",
       " 21,\n",
       " 21,\n",
       " 21,\n",
       " 21,\n",
       " 21,\n",
       " 21,\n",
       " 21,\n",
       " 21,\n",
       " 21,\n",
       " 21,\n",
       " 21,\n",
       " 21,\n",
       " 21,\n",
       " 21,\n",
       " 21,\n",
       " 21,\n",
       " 21,\n",
       " 21,\n",
       " 21,\n",
       " 21,\n",
       " 21,\n",
       " 21,\n",
       " 21,\n",
       " 21,\n",
       " 21,\n",
       " 21,\n",
       " 21,\n",
       " 21,\n",
       " 21,\n",
       " 21,\n",
       " 21,\n",
       " 21,\n",
       " 21,\n",
       " 21,\n",
       " 21,\n",
       " 21,\n",
       " 21,\n",
       " 21,\n",
       " 21,\n",
       " 21,\n",
       " 21,\n",
       " 21,\n",
       " 21,\n",
       " 21,\n",
       " 21,\n",
       " 21,\n",
       " 21,\n",
       " 21,\n",
       " 21,\n",
       " 21,\n",
       " 21,\n",
       " 21,\n",
       " 21,\n",
       " 21,\n",
       " 21,\n",
       " 21,\n",
       " 21,\n",
       " 21,\n",
       " 21,\n",
       " 21,\n",
       " 21,\n",
       " 21,\n",
       " 21,\n",
       " 21,\n",
       " 21,\n",
       " 21,\n",
       " 21,\n",
       " 21,\n",
       " 21,\n",
       " 21,\n",
       " 21,\n",
       " 21,\n",
       " 21,\n",
       " 21,\n",
       " 21,\n",
       " 21,\n",
       " 21,\n",
       " 21,\n",
       " 21,\n",
       " 21,\n",
       " 21,\n",
       " 21,\n",
       " 21,\n",
       " 21,\n",
       " 21,\n",
       " 21,\n",
       " 21,\n",
       " 21,\n",
       " 21,\n",
       " 21,\n",
       " 21,\n",
       " 21,\n",
       " 21,\n",
       " 21,\n",
       " 21,\n",
       " 21,\n",
       " 21,\n",
       " 21,\n",
       " 21,\n",
       " 21,\n",
       " 21,\n",
       " 21,\n",
       " 21,\n",
       " 21,\n",
       " 21,\n",
       " 21,\n",
       " 21,\n",
       " 21,\n",
       " 21,\n",
       " 21,\n",
       " 21,\n",
       " 21,\n",
       " 21,\n",
       " 21,\n",
       " 21,\n",
       " 21,\n",
       " 21,\n",
       " 21,\n",
       " 21,\n",
       " 21,\n",
       " 21,\n",
       " 21,\n",
       " 21,\n",
       " 21,\n",
       " 21,\n",
       " 21,\n",
       " 21,\n",
       " 21,\n",
       " 21,\n",
       " 21,\n",
       " 21,\n",
       " 21,\n",
       " 21,\n",
       " 21,\n",
       " 21,\n",
       " 21,\n",
       " 21,\n",
       " 21,\n",
       " 21,\n",
       " 21,\n",
       " 21,\n",
       " 21,\n",
       " 21,\n",
       " 21,\n",
       " 21,\n",
       " 21,\n",
       " 21,\n",
       " 21,\n",
       " 21,\n",
       " 21,\n",
       " 21,\n",
       " 21,\n",
       " 21,\n",
       " 21,\n",
       " 21,\n",
       " 21,\n",
       " 21,\n",
       " 21,\n",
       " 21,\n",
       " 21,\n",
       " 21,\n",
       " 21,\n",
       " 21,\n",
       " 21,\n",
       " 21,\n",
       " 21,\n",
       " 21,\n",
       " 21,\n",
       " 21,\n",
       " 21,\n",
       " 21,\n",
       " 21,\n",
       " 21,\n",
       " 21,\n",
       " 21,\n",
       " 21,\n",
       " 21,\n",
       " 21,\n",
       " 21,\n",
       " 21,\n",
       " 21,\n",
       " 21,\n",
       " 21,\n",
       " 21,\n",
       " 21,\n",
       " 21,\n",
       " 21,\n",
       " 21,\n",
       " 21,\n",
       " 21,\n",
       " 21,\n",
       " 21,\n",
       " 21,\n",
       " 21,\n",
       " 21,\n",
       " 21,\n",
       " 21,\n",
       " 21,\n",
       " 21,\n",
       " 21,\n",
       " 21,\n",
       " 21,\n",
       " 21,\n",
       " 21,\n",
       " 21,\n",
       " 21,\n",
       " 21,\n",
       " 21,\n",
       " 21,\n",
       " 21,\n",
       " 21,\n",
       " 21,\n",
       " 21,\n",
       " 21,\n",
       " 21,\n",
       " 21,\n",
       " 21,\n",
       " 21,\n",
       " 21,\n",
       " 21,\n",
       " 21,\n",
       " 21,\n",
       " 21,\n",
       " 21,\n",
       " 21,\n",
       " 21,\n",
       " 21,\n",
       " 21,\n",
       " 21,\n",
       " 21,\n",
       " 21,\n",
       " 21,\n",
       " 21,\n",
       " 21,\n",
       " 21,\n",
       " 21,\n",
       " 21,\n",
       " 21,\n",
       " 21,\n",
       " 21,\n",
       " 21,\n",
       " 21,\n",
       " 21,\n",
       " 21,\n",
       " 21,\n",
       " 21,\n",
       " 21,\n",
       " 21,\n",
       " 21,\n",
       " 21,\n",
       " 21,\n",
       " 21,\n",
       " 21,\n",
       " 21,\n",
       " 21,\n",
       " 21,\n",
       " 21,\n",
       " 21,\n",
       " 21,\n",
       " 21,\n",
       " 21,\n",
       " 21,\n",
       " 21,\n",
       " 21,\n",
       " 21,\n",
       " 21,\n",
       " 21,\n",
       " 21,\n",
       " 21,\n",
       " 21,\n",
       " 21,\n",
       " 21,\n",
       " 21,\n",
       " 21,\n",
       " 21,\n",
       " 21,\n",
       " 21,\n",
       " 21,\n",
       " 21]"
      ]
     },
     "execution_count": 146,
     "metadata": {},
     "output_type": "execute_result"
    }
   ],
   "source": [
    "b['2-18'][0]"
   ]
  },
  {
   "cell_type": "code",
   "execution_count": 175,
   "metadata": {
    "collapsed": true
   },
   "outputs": [],
   "source": [
    "filepath=\"CHA_36/3by3by3/jobs/\""
   ]
  },
  {
   "cell_type": "code",
   "execution_count": 177,
   "metadata": {
    "collapsed": true
   },
   "outputs": [],
   "source": [
    "d=pickle.load(open(filepath+\"titration/titration_results_40_1.p\",'rb'))"
   ]
  },
  {
   "cell_type": "code",
   "execution_count": 179,
   "metadata": {},
   "outputs": [
    {
     "data": {
      "text/plain": [
       "100"
      ]
     },
     "execution_count": 179,
     "metadata": {},
     "output_type": "execute_result"
    }
   ],
   "source": [
    "len(d['2-11'])"
   ]
  },
  {
   "cell_type": "markdown",
   "metadata": {},
   "source": [
    "### Si/Al=9 no1NN T4frac50 results"
   ]
  },
  {
   "cell_type": "code",
   "execution_count": 59,
   "metadata": {
    "collapsed": true
   },
   "outputs": [],
   "source": [
    "def combine_count_files(prefix, ratios, num, savefileprefix):\n",
    "    for ratio in ratios:\n",
    "        results = defaultdict(lambda: [])\n",
    "        for i in range(1, num+1):\n",
    "            filename = prefix.format(ratio, i)\n",
    "            temp = pickle.load(open(filename, 'rb'))\n",
    "            for t in temp.keys():\n",
    "                results[t].extend(temp[t])\n",
    "        pickle.dump(dict(results),open(savefileprefix.format(ratio),'wb'))\n",
    "    return results  "
   ]
  },
  {
   "cell_type": "code",
   "execution_count": 60,
   "metadata": {
    "collapsed": true
   },
   "outputs": [],
   "source": [
    "num=100\n",
    "ratios = [3,5,7,10,15,20,25,30,35,40]\n",
    "prefix = 'CHA_36/3by3by3/Fe_titration/order2/titration_results_{}_{}.p'\n",
    "savefileprefix ='CHA_36/3by3by3/Fe_titration/order2/titrate_result_summary_{}.p'\n",
    "results = combine_count_files(prefix, ratios, num, savefileprefix)"
   ]
  },
  {
   "cell_type": "code",
   "execution_count": 62,
   "metadata": {},
   "outputs": [
    {
     "name": "stdout",
     "output_type": "stream",
     "text": [
      "[0.09173909465020576, 0.250719341563786, 0.012961728395061729]\n",
      "[0.018888120177657165, 0.018387623798917466, 0.007071115603591447]\n",
      "0.3554201646090535 0.01256090690026765\n",
      "[0.07542777777777777, 0.17022037037037038, 0.021734567901234566]\n",
      "[0.019579102131698823, 0.022529485422044297, 0.011254152987115457]\n",
      "0.26738271604938274 0.019623362614774466\n",
      "[0.05995983606557377, 0.12785081967213113, 0.024240983606557374]\n",
      "[0.020133610394949257, 0.024614789800337683, 0.013644489000545181]\n",
      "0.21205163934426227 0.024414506359966812\n",
      "[0.04425227272727273, 0.09195113636363636, 0.023619318181818182]\n",
      "[0.02076347006281914, 0.02681262247366507, 0.015829091677565608]\n",
      "0.15982272727272728 0.0290297044364806\n",
      "[0.03081639344262295, 0.06314754098360656, 0.020509836065573772]\n",
      "[0.02155193448718113, 0.028264767302773337, 0.017806695849937448]\n",
      "0.11447377049180327 0.03348682224661362\n",
      "[0.023517391304347827, 0.047365217391304344, 0.01669782608695652]\n",
      "[0.0215042612385957, 0.02921168551947095, 0.01843245460587742]\n",
      "0.0875804347826087 0.03604290337560101\n",
      "[0.018772972972972972, 0.037421621621621624, 0.014275675675675675]\n",
      "[0.021905748700979725, 0.029227737808701016, 0.019194988845685098]\n",
      "0.07047027027027027 0.03734490928918405\n",
      "[0.015325806451612904, 0.03160967741935484, 0.01314516129032258]\n",
      "[0.021667720324442825, 0.02981552700128247, 0.01989681367930478]\n",
      "0.060080645161290316 0.03865040825492834\n",
      "[0.013437037037037037, 0.0265, 0.011466666666666667]\n",
      "[0.021860518055550844, 0.0299464485460507, 0.02037871344298312]\n",
      "0.051403703703703695 0.03966653854113553\n",
      "[0.011954166666666667, 0.023387500000000002, 0.010529166666666666]\n",
      "[0.021545671371788606, 0.029879454282072226, 0.020608904072835443]\n",
      "0.045870833333333326 0.039789358353640794\n"
     ]
    }
   ],
   "source": [
    "for i in ratios:\n",
    "    t=pickle.load(open('CHA_36/3by3by3/Fe_titration/order2/titrate_result_summary_{}.p'.format(i),'rb'))\n",
    "    Al_num = int(round(1/(1+i)*972))\n",
    "    types=['2-11','2-7','2-20']\n",
    "    mean=[]\n",
    "    std=[]\n",
    "    for j in types:\n",
    "        mean.append(np.mean(t[j])/Al_num)\n",
    "        std.append(np.std(t[j])/Al_num)\n",
    "\n",
    "    print(mean)\n",
    "    print(std)\n",
    "    sum_=[]\n",
    "    tem=0\n",
    "    for j in range(0,10000):\n",
    "        for k in types:\n",
    "            tem=tem+t[k][j][0]/Al_num\n",
    "        sum_.append(tem)\n",
    "        tem=0\n",
    "    print(np.mean(sum_),np.std(sum_))"
   ]
  },
  {
   "cell_type": "code",
   "execution_count": null,
   "metadata": {
    "collapsed": true
   },
   "outputs": [],
   "source": []
  },
  {
   "cell_type": "code",
   "execution_count": 30,
   "metadata": {},
   "outputs": [
    {
     "name": "stdout",
     "output_type": "stream",
     "text": [
      "[0.011954166666666667, 0.011354166666666667, 0.020966666666666665, 0.011075, 0.019670833333333335, 0.008495833333333333, 0.01727916666666667, 0.017062499999999998, 0.007858333333333333]\n",
      "[0.021545671371788606, 0.021652389125939687, 0.028406454665562658, 0.020947618201918167, 0.027570036762458863, 0.018377068572151423, 0.025971535901508275, 0.025860528360482762, 0.017600408375944007]\n"
     ]
    }
   ],
   "source": [
    "t_40=pickle.load(open('CHA_36/3by3by3/Fe_titration/order1/titrate_result_summary_40.p','rb'))\n",
    "Al_num = int(round(1/(1+40)*972))\n",
    "types=['2-11','2-15','2-18','2-20','2-8','2-19','2-7','2-9','2-21']\n",
    "mean=[]\n",
    "std=[]\n",
    "for i in types:\n",
    "    mean.append(np.mean(t_40[i])/Al_num)\n",
    "    std.append(np.std(t_40[i])/Al_num)\n",
    "\n",
    "print(mean)\n",
    "print(std)"
   ]
  },
  {
   "cell_type": "code",
   "execution_count": 31,
   "metadata": {},
   "outputs": [
    {
     "name": "stdout",
     "output_type": "stream",
     "text": [
      "0.12571666666666664 0.05557002839261066\n"
     ]
    }
   ],
   "source": [
    "sum_=[]\n",
    "tem=0\n",
    "for j in range(0,10000):\n",
    "    for i in types:\n",
    "        tem=tem+t_40[i][j][0]/Al_num\n",
    "    sum_.append(tem)\n",
    "    tem=0\n",
    "print(np.mean(sum_),np.std(sum_))"
   ]
  },
  {
   "cell_type": "code",
   "execution_count": null,
   "metadata": {
    "collapsed": true
   },
   "outputs": [],
   "source": []
  },
  {
   "cell_type": "code",
   "execution_count": 32,
   "metadata": {},
   "outputs": [
    {
     "name": "stdout",
     "output_type": "stream",
     "text": [
      "[0.013437037037037037, 0.0125, 0.023985185185185182, 0.012255555555555556, 0.021681481481481482, 0.009844444444444444, 0.018537037037037036, 0.018011111111111113, 0.008333333333333333]\n",
      "[0.021860518055550844, 0.020957653757727908, 0.02840560233774486, 0.021042943550060405, 0.02751996008387063, 0.018693629850357246, 0.02559577484637421, 0.025353801293984887, 0.017307633686135235]\n"
     ]
    }
   ],
   "source": [
    "t_35=pickle.load(open('CHA_36/3by3by3/titration_9cluster/titrate_result_summary_35.p','rb'))\n",
    "Al_num = int(round(1/(1+35)*972))\n",
    "types=['2-11','2-15','2-18','2-20','2-8','2-19','2-7','2-9','2-21']\n",
    "mean=[]\n",
    "std=[]\n",
    "for i in types:\n",
    "    mean.append(np.mean(t_35[i])/Al_num)\n",
    "    std.append(np.std(t_35[i])/Al_num)\n",
    "\n",
    "print(mean)\n",
    "print(std)"
   ]
  },
  {
   "cell_type": "code",
   "execution_count": 33,
   "metadata": {},
   "outputs": [
    {
     "name": "stdout",
     "output_type": "stream",
     "text": [
      "0.1385851851851852 0.05267511470505472\n"
     ]
    }
   ],
   "source": [
    "sum_=[]\n",
    "tem=0\n",
    "for j in range(0,10000):\n",
    "    for i in types:\n",
    "        tem=tem+t_35[i][j][0]/Al_num\n",
    "    sum_.append(tem)\n",
    "    tem=0\n",
    "print(np.mean(sum_),np.std(sum_))"
   ]
  },
  {
   "cell_type": "code",
   "execution_count": null,
   "metadata": {
    "collapsed": true
   },
   "outputs": [],
   "source": []
  },
  {
   "cell_type": "code",
   "execution_count": 21,
   "metadata": {},
   "outputs": [
    {
     "name": "stdout",
     "output_type": "stream",
     "text": [
      "[0.015325806451612904, 0.014648387096774193, 0.026661290322580647, 0.014064516129032258, 0.024954838709677418, 0.010812903225806452, 0.02137741935483871, 0.0192258064516129, 0.009193548387096774]\n",
      "[0.00021667720324442823, 0.00021076472178723843, 0.00027887796405336033, 0.00020587217071857666, 0.00027287024890363656, 0.00018419353708829978, 0.00025275355800108136, 0.00024126444574026212, 0.00017111223352530563]\n"
     ]
    }
   ],
   "source": [
    "t_30=pickle.load(open('CHA_36/3by3by3/titration_9cluster/titrate_result_summary_30.p','rb'))\n",
    "Al_num = int(round(1/(1+30)*972))\n",
    "types=['2-11','2-15','2-18','2-20','2-8','2-19','2-7','2-9','2-21']\n",
    "mean=[]\n",
    "std=[]\n",
    "for i in types:\n",
    "    mean.append(np.mean(t_30[i])/Al_num)\n",
    "    std.append(np.std(t_30[i])/100/Al_num)\n",
    "\n",
    "print(mean)\n",
    "print(std)"
   ]
  },
  {
   "cell_type": "code",
   "execution_count": 22,
   "metadata": {},
   "outputs": [
    {
     "name": "stdout",
     "output_type": "stream",
     "text": [
      "0.15626451612903222 0.04970387188472329\n"
     ]
    }
   ],
   "source": [
    "sum_=[]\n",
    "tem=0\n",
    "for j in range(0,10000):\n",
    "    for i in types:\n",
    "        tem=tem+t_30[i][j][0]/Al_num\n",
    "    sum_.append(tem)\n",
    "    tem=0\n",
    "print(np.mean(sum_),np.std(sum_))"
   ]
  },
  {
   "cell_type": "code",
   "execution_count": null,
   "metadata": {
    "collapsed": true
   },
   "outputs": [],
   "source": []
  },
  {
   "cell_type": "code",
   "execution_count": 19,
   "metadata": {},
   "outputs": [
    {
     "name": "stdout",
     "output_type": "stream",
     "text": [
      "[0.018772972972972972, 0.017024324324324325, 0.030867567567567564, 0.01565945945945946, 0.028481081081081085, 0.012254054054054055, 0.023224324324324322, 0.02190810810810811, 0.010024324324324324]\n",
      "[0.021905748700979725, 0.020860348026710177, 0.027334836243549192, 0.0201001081150856, 0.02622743643984272, 0.01796491264087589, 0.024178293031311412, 0.023348717944604237, 0.016304560928938377]\n"
     ]
    }
   ],
   "source": [
    "t_25=pickle.load(open('CHA_36/3by3by3/titration_9cluster/titrate_result_summary_25.p','rb'))\n",
    "Al_num = int(round(1/(1+25)*972))\n",
    "types=['2-11','2-15','2-18','2-20','2-8','2-19','2-7','2-9','2-21']\n",
    "mean=[]\n",
    "std=[]\n",
    "for i in types:\n",
    "    mean.append(np.mean(t_25[i])/Al_num)\n",
    "    std.append(np.std(t_25[i])/Al_num)\n",
    "\n",
    "print(mean)\n",
    "print(std)"
   ]
  },
  {
   "cell_type": "code",
   "execution_count": 20,
   "metadata": {},
   "outputs": [
    {
     "name": "stdout",
     "output_type": "stream",
     "text": [
      "0.1782162162162162 0.04594406991400485\n"
     ]
    }
   ],
   "source": [
    "sum_=[]\n",
    "tem=0\n",
    "for j in range(0,10000):\n",
    "    for i in types:\n",
    "        tem=tem+t_25[i][j][0]/Al_num\n",
    "    sum_.append(tem)\n",
    "    tem=0\n",
    "print(np.mean(sum_),np.std(sum_))"
   ]
  },
  {
   "cell_type": "code",
   "execution_count": 61,
   "metadata": {},
   "outputs": [
    {
     "name": "stdout",
     "output_type": "stream",
     "text": [
      "0.1681618918918919 0.04587295028112453\n"
     ]
    }
   ],
   "source": [
    "t_25_100=pickle.load(open('CHA_36/3by3by3/titration/titrate_result_summary_25.p','rb'))\n",
    "Al_num = int(round(1/(1+25)*972))\n",
    "types=['2-11','2-15','2-18','2-20','2-8','2-7','2-9','2-21']\n",
    "sum_=[]\n",
    "tem=0\n",
    "for j in range(0,10000):\n",
    "    for k in range(0,100):\n",
    "        for i in types:\n",
    "            tem=tem+t_25_100[i][j][k]\n",
    "        sum_.append(tem/Al_num)\n",
    "        tem=0\n",
    "print(np.mean(sum_),np.std(sum_))"
   ]
  },
  {
   "cell_type": "code",
   "execution_count": null,
   "metadata": {
    "collapsed": true
   },
   "outputs": [],
   "source": []
  },
  {
   "cell_type": "code",
   "execution_count": 17,
   "metadata": {},
   "outputs": [
    {
     "name": "stdout",
     "output_type": "stream",
     "text": [
      "[0.023517391304347827, 0.02119130434782609, 0.036945652173913046, 0.018919565217391302, 0.032332608695652174, 0.01343695652173913, 0.026673913043478263, 0.02401086956521739, 0.010782608695652174]\n",
      "[0.0215042612385957, 0.020588746536201446, 0.02627828164114507, 0.019590296848792738, 0.025450930492792602, 0.016792016821171162, 0.02315060211035198, 0.022032581883684167, 0.015133058243324157]\n"
     ]
    }
   ],
   "source": [
    "t_20=pickle.load(open('CHA_36/3by3by3/titration_9cluster/titrate_result_summary_20.p','rb'))\n",
    "Al_num = int(round(1/(1+20)*972))\n",
    "types=['2-11','2-15','2-18','2-20','2-8','2-19','2-7','2-9','2-21']\n",
    "mean=[]\n",
    "std=[]\n",
    "for i in types:\n",
    "    mean.append(np.mean(t_20[i])/Al_num)\n",
    "    std.append(np.std(t_20[i])/Al_num)\n",
    "\n",
    "print(mean)\n",
    "print(std)"
   ]
  },
  {
   "cell_type": "code",
   "execution_count": 18,
   "metadata": {},
   "outputs": [
    {
     "name": "stdout",
     "output_type": "stream",
     "text": [
      "0.2078108695652174 0.04028304576360182\n"
     ]
    }
   ],
   "source": [
    "sum_=[]\n",
    "tem=0\n",
    "for j in range(0,10000):\n",
    "    for i in types:\n",
    "        tem=tem+t_20[i][j][0]/Al_num\n",
    "    sum_.append(tem)\n",
    "    tem=0\n",
    "print(np.mean(sum_),np.std(sum_))"
   ]
  },
  {
   "cell_type": "code",
   "execution_count": null,
   "metadata": {
    "collapsed": true
   },
   "outputs": [],
   "source": []
  },
  {
   "cell_type": "code",
   "execution_count": 26,
   "metadata": {},
   "outputs": [
    {
     "name": "stdout",
     "output_type": "stream",
     "text": [
      "[0.03081639344262295, 0.027311475409836063, 0.04534918032786885, 0.024499999999999997, 0.03912459016393443, 0.014916393442622952, 0.029688524590163932, 0.02541311475409836, 0.011485245901639345]\n",
      "[0.02155193448718113, 0.020200845863706917, 0.024841796179207707, 0.019417544921868923, 0.023569759799273123, 0.01520426175067246, 0.021208319066702206, 0.01969315788836905, 0.013410193189360627]\n"
     ]
    }
   ],
   "source": [
    "t_15=pickle.load(open('CHA_36/3by3by3/titration_9cluster/titrate_result_summary_15.p','rb'))\n",
    "Al_num = int(round(1/(1+15)*972))\n",
    "types=['2-11','2-15','2-18','2-20','2-8','2-19','2-7','2-9','2-21']\n",
    "mean=[]\n",
    "std=[]\n",
    "for i in types:\n",
    "    mean.append(np.mean(t_15[i])/Al_num)\n",
    "    std.append(np.std(t_15[i])/Al_num)\n",
    "\n",
    "print(mean)\n",
    "print(std)"
   ]
  },
  {
   "cell_type": "code",
   "execution_count": 27,
   "metadata": {},
   "outputs": [
    {
     "name": "stdout",
     "output_type": "stream",
     "text": [
      "0.24860491803278686 0.034044361364473585\n"
     ]
    }
   ],
   "source": [
    "sum_=[]\n",
    "tem=0\n",
    "for j in range(0,10000):\n",
    "    for i in types:\n",
    "        tem=tem+t_15[i][j][0]/Al_num\n",
    "    sum_.append(tem)\n",
    "    tem=0\n",
    "print(np.mean(sum_),np.std(sum_))"
   ]
  },
  {
   "cell_type": "code",
   "execution_count": null,
   "metadata": {
    "collapsed": true
   },
   "outputs": [],
   "source": []
  },
  {
   "cell_type": "code",
   "execution_count": 6,
   "metadata": {
    "collapsed": true
   },
   "outputs": [],
   "source": [
    "t_15_100=pickle.load(open('CHA_36/3by3by3/titration/titrate_result_summary_15.p','rb'))"
   ]
  },
  {
   "cell_type": "code",
   "execution_count": 19,
   "metadata": {
    "collapsed": true
   },
   "outputs": [],
   "source": [
    "Al_num = int(round(1/(1+15)*972))\n",
    "types=['2-11','2-15','2-18','2-20','2-8','2-7','2-9','2-21']"
   ]
  },
  {
   "cell_type": "code",
   "execution_count": 24,
   "metadata": {},
   "outputs": [
    {
     "name": "stdout",
     "output_type": "stream",
     "text": [
      "0.23732437704918033 0.034620300587182115\n"
     ]
    }
   ],
   "source": [
    "sum_=[]\n",
    "tem=0\n",
    "for j in range(0,10000):\n",
    "    for k in range(0,100):\n",
    "        for i in types:\n",
    "            tem=tem+t_15_100[i][j][k]\n",
    "        sum_.append(tem/Al_num)\n",
    "        tem=0\n",
    "print(np.mean(sum_),np.std(sum_))"
   ]
  },
  {
   "cell_type": "code",
   "execution_count": 21,
   "metadata": {},
   "outputs": [
    {
     "data": {
      "text/plain": [
       "1000000"
      ]
     },
     "execution_count": 21,
     "metadata": {},
     "output_type": "execute_result"
    }
   ],
   "source": [
    "len(sum_)"
   ]
  },
  {
   "cell_type": "code",
   "execution_count": 14,
   "metadata": {},
   "outputs": [
    {
     "name": "stdout",
     "output_type": "stream",
     "text": [
      "[0.04425227272727273, 0.03746022727272727, 0.05754772727272727, 0.03212727272727273, 0.04612386363636364, 0.01564318181818182, 0.032345454545454545, 0.0265875, 0.011004545454545454]\n",
      "[0.02076347006281914, 0.019472603894386747, 0.023118447139470588, 0.018145347512892564, 0.02151551066374909, 0.013023998629040783, 0.018044964499872335, 0.01664105090296159, 0.010903179269452475]\n"
     ]
    }
   ],
   "source": [
    "t_10=pickle.load(open('CHA_36/3by3by3/titration_9cluster/titrate_result_summary_10.p','rb'))\n",
    "Al_num = int(round(1/(1+10)*972))\n",
    "types=['2-11','2-15','2-18','2-20','2-8','2-19','2-7','2-9','2-21']\n",
    "mean=[]\n",
    "std=[]\n",
    "for i in types:\n",
    "    mean.append(np.mean(t_10[i])/Al_num)\n",
    "    std.append(np.std(t_10[i])/Al_num)\n",
    "\n",
    "print(mean)\n",
    "print(std)"
   ]
  },
  {
   "cell_type": "code",
   "execution_count": 15,
   "metadata": {},
   "outputs": [
    {
     "name": "stdout",
     "output_type": "stream",
     "text": [
      "0.3030920454545454 0.025360473465831757\n"
     ]
    }
   ],
   "source": [
    "sum_=[]\n",
    "tem=0\n",
    "for j in range(0,10000):\n",
    "    for i in types:\n",
    "        tem=tem+t_10[i][j][0]/Al_num\n",
    "    sum_.append(tem)\n",
    "    tem=0\n",
    "print(np.mean(sum_),np.std(sum_))"
   ]
  },
  {
   "cell_type": "code",
   "execution_count": null,
   "metadata": {
    "collapsed": true
   },
   "outputs": [],
   "source": []
  },
  {
   "cell_type": "code",
   "execution_count": 12,
   "metadata": {},
   "outputs": [
    {
     "name": "stdout",
     "output_type": "stream",
     "text": [
      "[0.05995983606557377, 0.04767295081967213, 0.06779180327868853, 0.040372131147540985, 0.05195491803278689, 0.014732786885245902, 0.033085245901639346, 0.02527295081967213, 0.009764754098360655]\n",
      "[0.020133610394949257, 0.01835714396670547, 0.021511007350843697, 0.017214353663455507, 0.019084667134073422, 0.010787188071886628, 0.015489146792793918, 0.013709763414183472, 0.008797279109240547]\n"
     ]
    }
   ],
   "source": [
    "t_7=pickle.load(open('CHA_36/3by3by3/titration_9cluster/titrate_result_summary_7.p','rb'))\n",
    "Al_num = int(round(1/(1+7)*972))\n",
    "types=['2-11','2-15','2-18','2-20','2-8','2-19','2-7','2-9','2-21']\n",
    "mean=[]\n",
    "std=[]\n",
    "for i in types:\n",
    "    mean.append(np.mean(t_7[i])/Al_num)\n",
    "    std.append(np.std(t_7[i])/Al_num)\n",
    "\n",
    "print(mean)\n",
    "print(std)"
   ]
  },
  {
   "cell_type": "code",
   "execution_count": 13,
   "metadata": {},
   "outputs": [
    {
     "name": "stdout",
     "output_type": "stream",
     "text": [
      "0.3506073770491804 0.019178347225043458\n"
     ]
    }
   ],
   "source": [
    "sum_=[]\n",
    "tem=0\n",
    "for j in range(0,10000):\n",
    "    for i in types:\n",
    "        tem=tem+t_7[i][j][0]/Al_num\n",
    "    sum_.append(tem)\n",
    "    tem=0\n",
    "print(np.mean(sum_),np.std(sum_))"
   ]
  },
  {
   "cell_type": "code",
   "execution_count": null,
   "metadata": {
    "collapsed": true
   },
   "outputs": [],
   "source": []
  },
  {
   "cell_type": "code",
   "execution_count": 10,
   "metadata": {},
   "outputs": [
    {
     "name": "stdout",
     "output_type": "stream",
     "text": [
      "[0.07542777777777777, 0.057324074074074076, 0.0739888888888889, 0.048817901234567904, 0.05530987654320988, 0.01262716049382716, 0.032867901234567905, 0.022334567901234566, 0.007951234567901234]\n",
      "[0.019579102131698823, 0.017192014915304185, 0.01940630156589329, 0.016595788646756253, 0.017077711287871257, 0.008738701722135096, 0.013357937461206252, 0.011110817485832222, 0.006924865101082535]\n"
     ]
    }
   ],
   "source": [
    "t_5=pickle.load(open('CHA_36/3by3by3/titration_9cluster/titrate_result_summary_5.p','rb'))\n",
    "Al_num = int(round(1/(1+5)*972))\n",
    "types=['2-11','2-15','2-18','2-20','2-8','2-19','2-7','2-9','2-21']\n",
    "mean=[]\n",
    "std=[]\n",
    "for i in types:\n",
    "    mean.append(np.mean(t_5[i])/Al_num)\n",
    "    std.append(np.std(t_5[i])/Al_num)\n",
    "\n",
    "print(mean)\n",
    "print(std)"
   ]
  },
  {
   "cell_type": "code",
   "execution_count": 11,
   "metadata": {},
   "outputs": [
    {
     "name": "stdout",
     "output_type": "stream",
     "text": [
      "0.3866493827160494 0.014454433814994484\n"
     ]
    }
   ],
   "source": [
    "sum_=[]\n",
    "tem=0\n",
    "for j in range(0,10000):\n",
    "    for i in types:\n",
    "        tem=tem+t_5[i][j][0]/Al_num\n",
    "    sum_.append(tem)\n",
    "    tem=0\n",
    "print(np.mean(sum_),np.std(sum_))"
   ]
  },
  {
   "cell_type": "code",
   "execution_count": 54,
   "metadata": {},
   "outputs": [
    {
     "name": "stdout",
     "output_type": "stream",
     "text": [
      "0.3793490617283953 0.015000150021726028\n"
     ]
    }
   ],
   "source": [
    "t_5_100=pickle.load(open('CHA_36/3by3by3/titration/titrate_result_summary_5.p','rb'))\n",
    "Al_num = int(round(1/(1+5)*972))\n",
    "types=['2-11','2-15','2-18','2-20','2-8','2-7','2-9','2-21']\n",
    "sum_=[]\n",
    "tem=0\n",
    "for j in range(0,10000):\n",
    "    for k in range(0,100):\n",
    "        for i in types:\n",
    "            tem=tem+t_5_100[i][j][k]\n",
    "        sum_.append(tem/Al_num)\n",
    "        tem=0\n",
    "print(np.mean(sum_),np.std(sum_))"
   ]
  },
  {
   "cell_type": "code",
   "execution_count": null,
   "metadata": {
    "collapsed": true
   },
   "outputs": [],
   "source": []
  },
  {
   "cell_type": "code",
   "execution_count": null,
   "metadata": {
    "collapsed": true
   },
   "outputs": [],
   "source": []
  },
  {
   "cell_type": "code",
   "execution_count": null,
   "metadata": {
    "collapsed": true
   },
   "outputs": [],
   "source": []
  },
  {
   "cell_type": "code",
   "execution_count": 4,
   "metadata": {},
   "outputs": [
    {
     "name": "stdout",
     "output_type": "stream",
     "text": [
      "[0.09173909465020576, 0.07123909465020577, 0.07503045267489711, 0.07137654320987655, 0.0579724279835391, 0.008391358024691358, 0.030623456790123457, 0.017064609053497944, 0.00494074074074074]\n",
      "[0.018888120177657165, 0.016026319183428256, 0.016108359634497606, 0.01768418615525129, 0.013868910313047341, 0.005724413245864841, 0.010263986429890648, 0.0078121901967397565, 0.004384135166988402]\n"
     ]
    }
   ],
   "source": [
    "t_3=pickle.load(open('CHA_36/3by3by3/titration_9cluster/titrate_result_summary_3.p','rb'))\n",
    "Al_num = int(round(1/(1+3)*972))\n",
    "types=['2-11','2-15','2-18','2-20','2-8','2-19','2-7','2-9','2-21']\n",
    "mean=[]\n",
    "std=[]\n",
    "for i in types:\n",
    "    mean.append(np.mean(t_3[i])/Al_num)\n",
    "    std.append(np.std(t_3[i])/Al_num)\n",
    "\n",
    "print(mean)\n",
    "print(std)"
   ]
  },
  {
   "cell_type": "code",
   "execution_count": 5,
   "metadata": {},
   "outputs": [
    {
     "name": "stdout",
     "output_type": "stream",
     "text": [
      "0.4283777777777778 0.009213901120167529\n"
     ]
    }
   ],
   "source": [
    "sum_=[]\n",
    "tem=0\n",
    "for j in range(0,10000):\n",
    "    for i in types:\n",
    "        tem=tem+t_3[i][j][0]/Al_num\n",
    "    sum_.append(tem)\n",
    "    tem=0\n",
    "print(np.mean(sum_),np.std(sum_))"
   ]
  },
  {
   "cell_type": "code",
   "execution_count": null,
   "metadata": {
    "collapsed": true
   },
   "outputs": [],
   "source": []
  },
  {
   "cell_type": "code",
   "execution_count": null,
   "metadata": {
    "collapsed": true
   },
   "outputs": [],
   "source": []
  },
  {
   "cell_type": "code",
   "execution_count": null,
   "metadata": {
    "collapsed": true
   },
   "outputs": [],
   "source": []
  },
  {
   "cell_type": "code",
   "execution_count": 91,
   "metadata": {
    "collapsed": true
   },
   "outputs": [],
   "source": [
    "mean_result=[]"
   ]
  },
  {
   "cell_type": "code",
   "execution_count": 92,
   "metadata": {
    "collapsed": true
   },
   "outputs": [],
   "source": [
    "result = pickle.load(open('CHA_36/3by3by3/jobs/count_result_summary_15.p','rb'))"
   ]
  },
  {
   "cell_type": "code",
   "execution_count": 93,
   "metadata": {
    "collapsed": true
   },
   "outputs": [],
   "source": [
    "for i in range (1,41):\n",
    "    mean_result.append(np.mean(result['2-'+ str(i)])/int(round(1/(1+15)*972)))"
   ]
  },
  {
   "cell_type": "code",
   "execution_count": 94,
   "metadata": {},
   "outputs": [
    {
     "data": {
      "text/plain": [
       "[0.0,\n",
       " 0.0,\n",
       " 0.0,\n",
       " 0.0,\n",
       " 0.07034754098360656,\n",
       " 0.03541803278688525,\n",
       " 0.06634098360655738,\n",
       " 0.06612950819672131,\n",
       " 0.06542295081967213,\n",
       " 0.030670491803278688,\n",
       " 0.03081639344262295,\n",
       " 0.03041967213114754,\n",
       " 0.06150819672131147,\n",
       " 0.031065573770491805,\n",
       " 0.030844262295081967,\n",
       " 0.06150655737704918,\n",
       " 0.06210327868852459,\n",
       " 0.06119016393442623,\n",
       " 0.03076393442622951,\n",
       " 0.030978688524590164,\n",
       " 0.03100327868852459,\n",
       " 0.061798360655737704,\n",
       " 0.030978688524590164,\n",
       " 0.03084590163934426,\n",
       " 0.06240491803278689,\n",
       " 0.06195737704918033,\n",
       " 0.062311475409836066,\n",
       " 0.06242131147540984,\n",
       " 0.03121311475409836,\n",
       " 0.062355737704918035,\n",
       " 0.062377049180327875,\n",
       " 0.06217704918032787,\n",
       " 0.062137704918032784,\n",
       " 0.06172950819672131,\n",
       " 0.061449180327868856,\n",
       " 0.06179344262295082,\n",
       " 0.06179508196721311,\n",
       " 0.06228032786885246,\n",
       " 0.0620672131147541,\n",
       " 0.06177213114754098]"
      ]
     },
     "execution_count": 94,
     "metadata": {},
     "output_type": "execute_result"
    }
   ],
   "source": [
    "mean_result"
   ]
  },
  {
   "cell_type": "code",
   "execution_count": null,
   "metadata": {
    "collapsed": true
   },
   "outputs": [],
   "source": []
  },
  {
   "cell_type": "code",
   "execution_count": null,
   "metadata": {
    "collapsed": true
   },
   "outputs": [],
   "source": []
  },
  {
   "cell_type": "code",
   "execution_count": null,
   "metadata": {
    "collapsed": true
   },
   "outputs": [],
   "source": []
  },
  {
   "cell_type": "code",
   "execution_count": 7,
   "metadata": {
    "collapsed": true
   },
   "outputs": [],
   "source": [
    "num=100\n",
    "ratios = [3,5,7,10,15,20,25,30,35,40]\n",
    "prefix = 'CHA_36/3by3by3/jobs/count_result_no1NN_SiAlratio{}_{}.p'\n",
    "savefileprefix ='CHA_36/3by3by3/jobs/count_result_summary_{}.p'\n",
    "results = combine_count_files(prefix, ratios, num, savefileprefix)"
   ]
  },
  {
   "cell_type": "code",
   "execution_count": 2,
   "metadata": {
    "collapsed": true
   },
   "outputs": [],
   "source": [
    "ratios = [3,5,7,10,15,20,25,30,35,40]\n",
    "mean_result=[[] for _ in range (len(ratios))]\n",
    "total_two_body=[]\n",
    "for j in range (0,10):\n",
    "    result = pickle.load(open('CHA_36/3by3by3/jobs/count_result_summary_{}.p'.format(ratios[j]),'rb'))\n",
    "    for i in range (1,41):\n",
    "        mean_result[j].append(np.mean(result['2-'+ str(i)])/int(round(1/(1+(ratios[j]))*972)))"
   ]
  },
  {
   "cell_type": "code",
   "execution_count": 3,
   "metadata": {
    "collapsed": true
   },
   "outputs": [],
   "source": [
    "distance=[3.09192, 3.10403, 3.10422, 3.11213, 4.38555, 4.38694, 5.36602, 5.53411, 5.73597, 6.19605, 6.19614, 6.2022, 6.34227, 6.93017, 7.20078, 7.21521, 7.33147, 7.33774, 7.47886, 7.84138, 8.09743, 8.09847, 8.10886, 8.41649, 8.53864, 8.54849, 8.65882, 8.67083, 8.97071, 9.304, 9.304, 9.304, 9.41367, 9.42261, 9.69337, 9.70614, 9.8043, 9.80819, 9.91415, 9.91879]"
   ]
  },
  {
   "cell_type": "code",
   "execution_count": 4,
   "metadata": {},
   "outputs": [
    {
     "name": "stdout",
     "output_type": "stream",
     "text": [
      "0.06634098360655738 0.03081639344262295 0.030844262295081967 0.06119016393442623 0.03076393442622951 0.030978688524590164 0.03100327868852459\n"
     ]
    }
   ],
   "source": [
    "print(mean_result[4][6],mean_result[4][10],mean_result[4][14],mean_result[4][17],mean_result[4][18],mean_result[4][19],mean_result[4][20])"
   ]
  },
  {
   "cell_type": "code",
   "execution_count": 5,
   "metadata": {},
   "outputs": [
    {
     "name": "stdout",
     "output_type": "stream",
     "text": [
      "5.36602 6.19614 7.20078 7.33774 7.47886 7.84138 8.09743\n"
     ]
    }
   ],
   "source": [
    "print(distance[6],distance[10],distance[14],distance[17],distance[18],distance[19],distance[20])"
   ]
  },
  {
   "cell_type": "code",
   "execution_count": 6,
   "metadata": {
    "collapsed": true
   },
   "outputs": [],
   "source": []
  },
  {
   "cell_type": "code",
   "execution_count": 7,
   "metadata": {},
   "outputs": [
    {
     "ename": "NameError",
     "evalue": "name 'distance_combine' is not defined",
     "output_type": "error",
     "traceback": [
      "\u001b[0;31m---------------------------------------------------------------------------\u001b[0m",
      "\u001b[0;31mNameError\u001b[0m                                 Traceback (most recent call last)",
      "\u001b[0;32m<ipython-input-7-b11c8f90faed>\u001b[0m in \u001b[0;36m<module>\u001b[0;34m()\u001b[0m\n\u001b[0;32m----> 1\u001b[0;31m \u001b[0mplt\u001b[0m\u001b[0;34m.\u001b[0m\u001b[0mbar\u001b[0m\u001b[0;34m(\u001b[0m\u001b[0mdistance_combine\u001b[0m\u001b[0;34m,\u001b[0m\u001b[0mmean_combine_r_result\u001b[0m\u001b[0;34m[\u001b[0m\u001b[0;36m4\u001b[0m\u001b[0;34m]\u001b[0m\u001b[0;34m,\u001b[0m\u001b[0;36m0.1\u001b[0m\u001b[0;34m,\u001b[0m\u001b[0medgecolor\u001b[0m\u001b[0;34m=\u001b[0m\u001b[0;34m'k'\u001b[0m\u001b[0;34m)\u001b[0m\u001b[0;34m\u001b[0m\u001b[0m\n\u001b[0m\u001b[1;32m      2\u001b[0m \u001b[0mplt\u001b[0m\u001b[0;34m.\u001b[0m\u001b[0mxlim\u001b[0m\u001b[0;34m(\u001b[0m\u001b[0;36m4\u001b[0m\u001b[0;34m,\u001b[0m\u001b[0;36m10\u001b[0m\u001b[0;34m)\u001b[0m\u001b[0;34m\u001b[0m\u001b[0m\n\u001b[1;32m      3\u001b[0m \u001b[0;31m#plt.ylim(0,0.5)\u001b[0m\u001b[0;34m\u001b[0m\u001b[0;34m\u001b[0m\u001b[0m\n\u001b[1;32m      4\u001b[0m \u001b[0mplt\u001b[0m\u001b[0;34m.\u001b[0m\u001b[0mxlabel\u001b[0m\u001b[0;34m(\u001b[0m\u001b[0;34m'Al-Al separation (angstroms)'\u001b[0m\u001b[0;34m)\u001b[0m\u001b[0;34m\u001b[0m\u001b[0m\n\u001b[1;32m      5\u001b[0m \u001b[0mplt\u001b[0m\u001b[0;34m.\u001b[0m\u001b[0mylabel\u001b[0m\u001b[0;34m(\u001b[0m\u001b[0;34m'Number of Al-Al pairs / Al'\u001b[0m\u001b[0;34m)\u001b[0m\u001b[0;34m\u001b[0m\u001b[0m\n",
      "\u001b[0;31mNameError\u001b[0m: name 'distance_combine' is not defined"
     ]
    }
   ],
   "source": [
    "plt.bar(distance_combine,mean_combine_r_result[4],0.1,edgecolor='k')\n",
    "plt.xlim(4,10)\n",
    "#plt.ylim(0,0.5)\n",
    "plt.xlabel('Al-Al separation (angstroms)')\n",
    "plt.ylabel('Number of Al-Al pairs / Al')\n",
    "\n",
    "fig=plt.gcf()\n",
    "fig.set_size_inches(16*0.8,9*0.8)\n",
    "#plt.savefig('20180423_1.png',format='png',dpi=1200)\n",
    "\n",
    "plt.show()"
   ]
  },
  {
   "cell_type": "code",
   "execution_count": 8,
   "metadata": {
    "collapsed": true
   },
   "outputs": [],
   "source": [
    "distance_combine=[3.09192, 4.38555, 5.36602, 5.53411, 5.73597, 6.19605, 6.34227, 6.93017, 7.20078, 7.33147, 7.47886, 7.84138, 8.09743, 8.41649, 8.53864, 8.65882, 8.97071, 9.304, 9.41367, 9.69337, 9.8043, 9.91415]"
   ]
  },
  {
   "cell_type": "code",
   "execution_count": 9,
   "metadata": {
    "collapsed": true
   },
   "outputs": [],
   "source": [
    "mean_combine_r_result=[[] for _ in range (len(ratios))]\n",
    "for j in range (0,10):\n",
    "    mean_combine_r_result[j].append(mean_result[j][0]+mean_result[j][1]+mean_result[j][2]+mean_result[j][3])\n",
    "    mean_combine_r_result[j].append(mean_result[j][4]+mean_result[j][5])\n",
    "    mean_combine_r_result[j].append(mean_result[j][6])\n",
    "    mean_combine_r_result[j].append(mean_result[j][7])\n",
    "    mean_combine_r_result[j].append(mean_result[j][8])\n",
    "    mean_combine_r_result[j].append(mean_result[j][9]+mean_result[j][10]+mean_result[j][11])\n",
    "    mean_combine_r_result[j].append(mean_result[j][12])\n",
    "    mean_combine_r_result[j].append(mean_result[j][13])\n",
    "    mean_combine_r_result[j].append(mean_result[j][14]+mean_result[j][15])\n",
    "    mean_combine_r_result[j].append(mean_result[j][16]+mean_result[j][17])\n",
    "    mean_combine_r_result[j].append(mean_result[j][18])\n",
    "    mean_combine_r_result[j].append(mean_result[j][19])\n",
    "    mean_combine_r_result[j].append(mean_result[j][20]+mean_result[j][21]+mean_result[j][22])\n",
    "    mean_combine_r_result[j].append(mean_result[j][23])\n",
    "    mean_combine_r_result[j].append(mean_result[j][24]+mean_result[j][25])\n",
    "    mean_combine_r_result[j].append(mean_result[j][26]+mean_result[j][27])\n",
    "    mean_combine_r_result[j].append(mean_result[j][28])\n",
    "    mean_combine_r_result[j].append(mean_result[j][29]+mean_result[j][30]+mean_result[j][31])\n",
    "    mean_combine_r_result[j].append(mean_result[j][32]+mean_result[j][33])\n",
    "    mean_combine_r_result[j].append(mean_result[j][34]+mean_result[j][35])\n",
    "    mean_combine_r_result[j].append(mean_result[j][36]+mean_result[j][37])\n",
    "    mean_combine_r_result[j].append(mean_result[j][38]+mean_result[j][39])\n"
   ]
  },
  {
   "cell_type": "code",
   "execution_count": 10,
   "metadata": {
    "collapsed": true
   },
   "outputs": [],
   "source": [
    "added_distance=[5.36602, 6.19605, 7.20078, 7.33147, 7.47886, 7.84138, 8.09743]\n",
    "added_result=[0.06634098360655738, 0.03081639344262295, 0.030844262295081967, 0.06119016393442623, 0.03076393442622951, 0.030978688524590164, 0.03100327868852459]\n"
   ]
  },
  {
   "cell_type": "code",
   "execution_count": 13,
   "metadata": {},
   "outputs": [
    {
     "data": {
      "text/plain": [
       "0.09715737704918033"
      ]
     },
     "execution_count": 13,
     "metadata": {},
     "output_type": "execute_result"
    }
   ],
   "source": [
    "0.06634098360655738+0.03081639344262295"
   ]
  },
  {
   "cell_type": "code",
   "execution_count": 16,
   "metadata": {
    "collapsed": true
   },
   "outputs": [],
   "source": [
    "plt.rcParams.update({'font.size': 20})\n",
    "#plt.rcParams[\"figure.figsize\"] = (16*0.6,9*0.7)\n",
    "plt.rcParams[\"xtick.labelsize\"] = 20\n",
    "plt.rcParams[\"ytick.labelsize\"] = 20\n",
    "plt.rcParams[\"axes.labelsize\"] = 20\n",
    "plt.rcParams['legend.fontsize'] = 20\n",
    "plt.rcParams['axes.titlesize'] = 20\n",
    "plt.rcParams['axes.titlepad'] = 20\n",
    "plt.rcParams['axes.labelpad'] = 20"
   ]
  },
  {
   "cell_type": "code",
   "execution_count": 23,
   "metadata": {},
   "outputs": [
    {
     "data": {
      "image/png": "[encoded data removed]",
      "text/plain": [
       "<Figure size 921.6x518.4 with 1 Axes>"
      ]
     },
     "metadata": {},
     "output_type": "display_data"
    }
   ],
   "source": [
    "import matplotlib.pyplot as plt\n",
    "#plt.bar(distance_combine,mean_combine_r_result[0],0.05)\n",
    "#plt.bar(distance_combine,mean_combine_r_result[1],0.05)\n",
    "#plt.bar(distance_combine,mean_combine_r_result[2],0.05)\n",
    "#plt.bar(distance_combine,mean_combine_r_result[3],0.05)\n",
    "plt.bar(distance_combine,mean_combine_r_result[4],0.05)\n",
    "plt.bar(added_distance,added_result,0.05,color='r')\n",
    "\n",
    "plt.xlim(4,10)\n",
    "plt.xlabel('Al-Al separation (angstroms)')\n",
    "plt.ylabel('Number of Al-Al pairs / Al')\n",
    "plt.yticks([0,0.05,0.1,0.15,0.2])\n",
    "fig=plt.gcf()\n",
    "fig.set_size_inches(16*0.8,9*0.8)\n",
    "plt.savefig('CHA_ratio_15_0620.png',format='png',dpi=1200)\n",
    "\n",
    "plt.show()"
   ]
  },
  {
   "cell_type": "code",
   "execution_count": 122,
   "metadata": {},
   "outputs": [
    {
     "data": {
      "image/png": "[encoded data removed]",
      "text/plain": [
       "<Figure size 921.6x518.4 with 1 Axes>"
      ]
     },
     "metadata": {},
     "output_type": "display_data"
    }
   ],
   "source": [
    "import matplotlib.pyplot as plt\n",
    "#plt.bar(distance_combine,mean_combine_r_result[0],0.05,label='Si/Al = 3')\n",
    "#plt.bar(distance_combine,mean_combine_r_result[1],0.05,label='Si/Al = 5')\n",
    "#plt.bar(distance_combine,mean_combine_r_result[2],0.05,label='Si/Al = 7')\n",
    "#plt.bar(distance_combine,mean_combine_r_result[3],0.05,label='Si/Al = 10')\n",
    "#plt.bar(distance_combine,mean_combine_r_result[4],0.05,label='Si/Al = 15')\n",
    "plt.bar(distance_combine,mean_combine_r_result[5],0.05,label='Si/Al = 20')\n",
    "plt.bar(distance_combine,mean_combine_r_result[6],0.05,label='Si/Al = 25')\n",
    "plt.bar(distance_combine,mean_combine_r_result[7],0.05,label='Si/Al = 30')\n",
    "plt.bar(distance_combine,mean_combine_r_result[8],0.05,label='Si/Al = 35')\n",
    "plt.bar(distance_combine,mean_combine_r_result[9],0.05,label='Si/Al = 40')\n",
    "\n",
    "#plt.bar(distance_combine,mean_combine_r_result[2],0.05)\n",
    "#plt.bar(distance_combine,mean_combine_r_result[3],0.05)\n",
    "#plt.bar(distance_combine,mean_combine_r_result[4],0.05)\n",
    "#plt.bar(added_distance,added_result,0.05,color='r')\n",
    "\n",
    "plt.xlim(4,10)\n",
    "plt.xlabel('Al-Al separation (angstroms)')\n",
    "plt.ylabel('Number of Al-Al pairs / Al')\n",
    "plt.legend()\n",
    "fig=plt.gcf()\n",
    "fig.set_size_inches(16*0.8,9*0.8)\n",
    "plt.savefig('20180423_ratio_40.png',format='png',dpi=1200)\n",
    "\n",
    "plt.show()"
   ]
  },
  {
   "cell_type": "code",
   "execution_count": 126,
   "metadata": {},
   "outputs": [
    {
     "data": {
      "image/png": "[encoded data removed]",
      "text/plain": [
       "<Figure size 921.6x518.4 with 1 Axes>"
      ]
     },
     "metadata": {},
     "output_type": "display_data"
    }
   ],
   "source": [
    "import matplotlib.pyplot as plt\n",
    "\n",
    "plt.plot(distance,mean_result[4],'o')\n",
    "\n",
    "\n",
    "plt.xlim(4,10)\n",
    "plt.xlabel('Al-Al separation (angstroms)')\n",
    "plt.ylabel('Number of Al-Al pairs / Al')\n",
    "\n",
    "fig=plt.gcf()\n",
    "fig.set_size_inches(16*0.8,9*0.8)\n",
    "plt.savefig('20180423_CHAMFI3.png',format='png',dpi=1200)\n",
    "\n",
    "plt.show()"
   ]
  },
  {
   "cell_type": "code",
   "execution_count": 65,
   "metadata": {},
   "outputs": [
    {
     "data": {
      "text/plain": [
       "[<matplotlib.lines.Line2D at 0x7f77ed4e9e48>]"
      ]
     },
     "execution_count": 65,
     "metadata": {},
     "output_type": "execute_result"
    },
    {
     "data": {
      "image/png": "[encoded data removed]",
      "text/plain": [
       "<Figure size 432x288 with 1 Axes>"
      ]
     },
     "metadata": {},
     "output_type": "display_data"
    }
   ],
   "source": [
    "plt.plot(mean_combine_r_result[0],mean_combine_r_result[5],'o')    "
   ]
  },
  {
   "cell_type": "code",
   "execution_count": 9,
   "metadata": {
    "collapsed": true
   },
   "outputs": [],
   "source": [
    "result_3 = pickle.load(open('CHA_36/3by3by3/jobs/count_result_summary_3.p','rb'))"
   ]
  },
  {
   "cell_type": "code",
   "execution_count": 18,
   "metadata": {},
   "outputs": [
    {
     "name": "stdout",
     "output_type": "stream",
     "text": [
      "5.761316872427983e-06\n",
      "1.646090534979424e-06\n",
      "4.938271604938271e-06\n",
      "7.4074074074074075e-06\n",
      "0.4150551440329218\n",
      "0.20605473251028808\n",
      "0.354024279835391\n",
      "0.34165473251028805\n",
      "0.33503827160493826\n",
      "0.08143168724279835\n",
      "0.09173909465020576\n",
      "0.08125390946502058\n",
      "0.17273456790123456\n",
      "0.15676008230452676\n",
      "0.10709588477366255\n",
      "0.19030740740740743\n",
      "0.1917074074074074\n",
      "0.21635102880658438\n",
      "0.10934609053497943\n",
      "0.13555761316872428\n",
      "0.13450699588477366\n",
      "0.21188765432098766\n",
      "0.11019670781893004\n",
      "0.10720658436213992\n",
      "0.29341481481481485\n",
      "0.2770748971193416\n",
      "0.27757736625514406\n",
      "0.2806818930041152\n",
      "0.14087654320987653\n",
      "0.2710551440329218\n",
      "0.26558724279835394\n",
      "0.28184197530864197\n",
      "0.27149753086419753\n",
      "0.2615189300411523\n",
      "0.2715144032921811\n",
      "0.23652139917695472\n",
      "0.22191069958847737\n",
      "0.23607242798353908\n",
      "0.236898353909465\n",
      "0.23799423868312758\n"
     ]
    }
   ],
   "source": [
    "for i in range (1,41):\n",
    "    print(np.mean(result_3['2-'+ str(i)])/int(round(1/(1+3)*972)))"
   ]
  },
  {
   "cell_type": "code",
   "execution_count": 15,
   "metadata": {},
   "outputs": [
    {
     "data": {
      "text/plain": [
       "50.0713"
      ]
     },
     "execution_count": 15,
     "metadata": {},
     "output_type": "execute_result"
    }
   ],
   "source": [
    "np.mean(result_3['2-6'])"
   ]
  },
  {
   "cell_type": "markdown",
   "metadata": {},
   "source": [
    "### no1NN count T4T4 & T1T4"
   ]
  },
  {
   "cell_type": "code",
   "execution_count": 117,
   "metadata": {
    "collapsed": true
   },
   "outputs": [],
   "source": [
    "types = ['1-1','1-2','1-3','1-4','2-20','2-27']\n",
    "num = 50\n",
    "prefix = 'no1NN_T4frac50/swap_no1NN_T4frac50_count_T4T4_T1T4_{}_{}.p'\n",
    "savefileprefix = 'no1NN_T4frac50/swap_no1NN_T4frac50_count_T4T4_T1T4_{}_summary.p'\n",
    "results = combine_count_files(prefix, ratios,types, num, savefileprefix)"
   ]
  },
  {
   "cell_type": "code",
   "execution_count": 118,
   "metadata": {
    "collapsed": true
   },
   "outputs": [],
   "source": [
    "result_9 = pickle.load(open('no1NN_T4frac50/swap_no1NN_T4frac50_count_T4T4_T1T4_9_summary.p','rb'))"
   ]
  },
  {
   "cell_type": "code",
   "execution_count": 123,
   "metadata": {},
   "outputs": [
    {
     "data": {
      "text/plain": [
       "0.1517938144329897"
      ]
     },
     "execution_count": 123,
     "metadata": {},
     "output_type": "execute_result"
    }
   ],
   "source": [
    "np.mean(result_9['total 2-body'])/int(round(1/(1+9)*972))"
   ]
  },
  {
   "cell_type": "code",
   "execution_count": 120,
   "metadata": {},
   "outputs": [
    {
     "data": {
      "text/plain": [
       "0.10781443298969072"
      ]
     },
     "execution_count": 120,
     "metadata": {},
     "output_type": "execute_result"
    }
   ],
   "source": [
    "np.mean(result_9['2-27'])/int(round(1/(1+9)*972))"
   ]
  },
  {
   "cell_type": "code",
   "execution_count": 121,
   "metadata": {},
   "outputs": [
    {
     "data": {
      "text/plain": [
       "0.043979381443298972"
      ]
     },
     "execution_count": 121,
     "metadata": {},
     "output_type": "execute_result"
    }
   ],
   "source": [
    "np.mean(result_9['2-20'])/int(round(1/(1+9)*972))"
   ]
  },
  {
   "cell_type": "code",
   "execution_count": 122,
   "metadata": {
    "scrolled": true
   },
   "outputs": [
    {
     "data": {
      "text/plain": [
       "48.0"
      ]
     },
     "execution_count": 122,
     "metadata": {},
     "output_type": "execute_result"
    }
   ],
   "source": [
    "np.mean(result_9['1-4'])"
   ]
  },
  {
   "cell_type": "markdown",
   "metadata": {},
   "source": [
    "### no1NN count T4T4 & T1T4 excluding 3Al"
   ]
  },
  {
   "cell_type": "code",
   "execution_count": 124,
   "metadata": {
    "collapsed": true
   },
   "outputs": [],
   "source": [
    "types = ['1-1','1-2','1-3','1-4','2-20','2-27']\n",
    "num = 50\n",
    "prefix = 'no1NN_T4frac50/swap_no1NN_T4frac50_count_T4T4_T1T4_EX3Al_{}_{}.p'\n",
    "savefileprefix = 'no1NN_T4frac50/swap_no1NN_T4frac50_count_T4T4_T1T4_EX3Al_{}_summary.p'\n",
    "results = combine_count_files(prefix, ratios[:1], types, num, savefileprefix)"
   ]
  },
  {
   "cell_type": "code",
   "execution_count": 125,
   "metadata": {
    "collapsed": true
   },
   "outputs": [],
   "source": [
    "result_9 = pickle.load(open('no1NN_T4frac50/swap_no1NN_T4frac50_count_T4T4_T1T4_EX3Al_9_summary.p','rb'))"
   ]
  },
  {
   "cell_type": "code",
   "execution_count": 126,
   "metadata": {
    "scrolled": true
   },
   "outputs": [
    {
     "data": {
      "text/plain": [
       "0.14868041237113402"
      ]
     },
     "execution_count": 126,
     "metadata": {},
     "output_type": "execute_result"
    }
   ],
   "source": [
    "np.mean(result_9['total 2-body'])/int(round(1/(1+9)*972))"
   ]
  },
  {
   "cell_type": "code",
   "execution_count": 127,
   "metadata": {
    "scrolled": false
   },
   "outputs": [
    {
     "data": {
      "text/plain": [
       "0.10781443298969072"
      ]
     },
     "execution_count": 127,
     "metadata": {},
     "output_type": "execute_result"
    }
   ],
   "source": [
    "np.mean(result_9['2-27'])/int(round(1/(1+9)*972))"
   ]
  },
  {
   "cell_type": "code",
   "execution_count": 128,
   "metadata": {},
   "outputs": [
    {
     "data": {
      "text/plain": [
       "0.040865979381443297"
      ]
     },
     "execution_count": 128,
     "metadata": {},
     "output_type": "execute_result"
    }
   ],
   "source": [
    "np.mean(result_9['2-20'])/int(round(1/(1+9)*972))"
   ]
  },
  {
   "cell_type": "code",
   "execution_count": 129,
   "metadata": {},
   "outputs": [
    {
     "data": {
      "text/plain": [
       "0.49328865979381442"
      ]
     },
     "execution_count": 129,
     "metadata": {},
     "output_type": "execute_result"
    }
   ],
   "source": [
    "np.mean(result_9['1-4'])/int(round(1/(1+9)*972))"
   ]
  },
  {
   "cell_type": "code",
   "execution_count": 169,
   "metadata": {
    "collapsed": true
   },
   "outputs": [],
   "source": [
    "def combine_titration_files(prefix, types, num, savefileprefix,both=True):\n",
    "    for t in types:\n",
    "        results = {}\n",
    "        if both:\n",
    "            results['2-20'] = []\n",
    "            results['total'] = []\n",
    "        results['2-27'] = []\n",
    "        for i in range(1, num+1):\n",
    "            filename = prefix.format(t, i)\n",
    "            temp = pickle.load(open(filename, 'rb'))\n",
    "            if both:\n",
    "                results['2-20'].extend(temp['2-20'])\n",
    "                results['total'].extend([temp['2-20'][j]+temp['2-27'][j]for j,num in enumerate(temp['2-20'])])\n",
    "            results['2-27'].extend(temp['2-27'])\n",
    "        pickle.dump(results,open(savefileprefix.format(t),'wb'))\n",
    "    return results  \n",
    "#[k] for k in range(len(temp['2-27'][0])) "
   ]
  },
  {
   "cell_type": "code",
   "execution_count": 170,
   "metadata": {
    "collapsed": true
   },
   "outputs": [],
   "source": [
    "def summarize_titrate_results(results, both=True):\n",
    "    temp = {}\n",
    "    if both:\n",
    "        temp['2-20'] = []\n",
    "        temp['total'] = []\n",
    "    temp['2-27'] = []\n",
    "    for index, item in enumerate(results['2-27']):\n",
    "        temp['2-27'].append(np.mean(item))\n",
    "        if both:\n",
    "            temp['2-20'].append(np.mean(results['2-20'][index]))\n",
    "            temp['total'].append(np.mean(item)+np.mean(results['2-20'][index]))\n",
    "    return temp"
   ]
  },
  {
   "cell_type": "markdown",
   "metadata": {},
   "source": [
    "### no1NN titrate T4T4"
   ]
  },
  {
   "cell_type": "code",
   "execution_count": 130,
   "metadata": {
    "collapsed": true
   },
   "outputs": [],
   "source": [
    "types = ratios[:1]\n",
    "num = 50\n",
    "prefix = 'no1NN_T4frac50/swap_no1NN_T4frac50_titration_T4T4_{}_{}.p'\n",
    "savefileprefix = 'no1NN_T4frac50/swap_no1NN_T4frac50_titration_T4T4_{}_summary.p'\n",
    "results = combine_titration_files(prefix, types, num, savefileprefix,both=False)"
   ]
  },
  {
   "cell_type": "code",
   "execution_count": 132,
   "metadata": {
    "scrolled": true
   },
   "outputs": [
    {
     "data": {
      "text/plain": [
       "0.10781443298969072"
      ]
     },
     "execution_count": 132,
     "metadata": {},
     "output_type": "execute_result"
    }
   ],
   "source": [
    "np.mean(results['2-27'])/int(round(1/(1+9)*972))"
   ]
  },
  {
   "cell_type": "markdown",
   "metadata": {},
   "source": [
    "### no1NN titrate T4T4 Exc3Al"
   ]
  },
  {
   "cell_type": "code",
   "execution_count": 133,
   "metadata": {
    "collapsed": true
   },
   "outputs": [],
   "source": [
    "types = ratios\n",
    "num = 50\n",
    "prefix = 'no1NN_T4frac50/swap_no1NN_T4frac50_titration_T4T4_EX3Al_{}_{}.p'\n",
    "savefileprefix = 'no1NN_T4frac50/swap_no1NN_T4frac50_titration_T4T4_EX3Al_{}_summary.p'\n",
    "results = combine_titration_files(prefix, types, num, savefileprefix,both=False)"
   ]
  },
  {
   "cell_type": "code",
   "execution_count": 134,
   "metadata": {
    "collapsed": true
   },
   "outputs": [],
   "source": [
    "temp = summarize_titrate_results(results, both=False)"
   ]
  },
  {
   "cell_type": "code",
   "execution_count": 135,
   "metadata": {},
   "outputs": [
    {
     "data": {
      "text/plain": [
       "0.10781443298969072"
      ]
     },
     "execution_count": 135,
     "metadata": {},
     "output_type": "execute_result"
    }
   ],
   "source": [
    "np.mean(temp['2-27'])/int(round(1/(1+9)*972))"
   ]
  },
  {
   "cell_type": "markdown",
   "metadata": {},
   "source": [
    "### no1NN titrate T4T4 & T4T1"
   ]
  },
  {
   "cell_type": "code",
   "execution_count": 136,
   "metadata": {
    "collapsed": true
   },
   "outputs": [],
   "source": [
    "types = ratios[:1]\n",
    "num = 50\n",
    "prefix = 'no1NN_T4frac50/swap_no1NN_T4frac50_titration_T4T4_T1T4_{}_{}.p'\n",
    "savefileprefix = 'no1NN_T4frac50/swap_no1NN_T4frac50_titration_T4T4_T1T4_{}_summary.p'\n",
    "results = combine_titration_files(prefix, types, num, savefileprefix)"
   ]
  },
  {
   "cell_type": "code",
   "execution_count": 137,
   "metadata": {},
   "outputs": [
    {
     "data": {
      "text/plain": [
       "0.15023711340206186"
      ]
     },
     "execution_count": 137,
     "metadata": {},
     "output_type": "execute_result"
    }
   ],
   "source": [
    "np.mean(results['total'])/int(round(1/(1+9)*972))"
   ]
  },
  {
   "cell_type": "code",
   "execution_count": 138,
   "metadata": {},
   "outputs": [
    {
     "data": {
      "text/plain": [
       "0.10781443298969072"
      ]
     },
     "execution_count": 138,
     "metadata": {},
     "output_type": "execute_result"
    }
   ],
   "source": [
    "np.mean(results['2-27'])/int(round(1/(1+9)*972))"
   ]
  },
  {
   "cell_type": "code",
   "execution_count": 139,
   "metadata": {},
   "outputs": [
    {
     "data": {
      "text/plain": [
       "0.042422680412371135"
      ]
     },
     "execution_count": 139,
     "metadata": {},
     "output_type": "execute_result"
    }
   ],
   "source": [
    "np.mean(results['2-20'])/int(round(1/(1+9)*972))"
   ]
  },
  {
   "cell_type": "markdown",
   "metadata": {},
   "source": [
    "### no1NN titrate T4T4 & T4T1 Exc3Al"
   ]
  },
  {
   "cell_type": "code",
   "execution_count": 140,
   "metadata": {
    "collapsed": true
   },
   "outputs": [],
   "source": [
    "types = ratios[:1]\n",
    "num = 50\n",
    "prefix = 'no1NN_T4frac50/swap_no1NN_T4frac50_titration_T4T4_T1T4_EX3Al_{}_{}.p'\n",
    "savefileprefix = 'no1NN_T4frac50/swap_no1NN_T4frac50_titration_T4T4_T1T4_EX3Al_{}_summary.p'\n",
    "results = combine_titration_files(prefix, types, num, savefileprefix)"
   ]
  },
  {
   "cell_type": "code",
   "execution_count": 142,
   "metadata": {},
   "outputs": [
    {
     "data": {
      "text/plain": [
       "0.14868041237113402"
      ]
     },
     "execution_count": 142,
     "metadata": {},
     "output_type": "execute_result"
    }
   ],
   "source": [
    "np.mean(results['total'])/int(round(1/(1+9)*972))"
   ]
  },
  {
   "cell_type": "code",
   "execution_count": 143,
   "metadata": {},
   "outputs": [
    {
     "data": {
      "text/plain": [
       "0.10781443298969072"
      ]
     },
     "execution_count": 143,
     "metadata": {},
     "output_type": "execute_result"
    }
   ],
   "source": [
    "np.mean(results['2-27'])/int(round(1/(1+9)*972))"
   ]
  },
  {
   "cell_type": "code",
   "execution_count": 144,
   "metadata": {
    "scrolled": false
   },
   "outputs": [
    {
     "data": {
      "text/plain": [
       "0.040865979381443297"
      ]
     },
     "execution_count": 144,
     "metadata": {},
     "output_type": "execute_result"
    }
   ],
   "source": [
    "np.mean(results['2-20'])/int(round(1/(1+9)*972))"
   ]
  },
  {
   "cell_type": "markdown",
   "metadata": {},
   "source": [
    "### Si/Al=9 no1NNnoT4T4 T4frac50 results"
   ]
  },
  {
   "cell_type": "code",
   "execution_count": 148,
   "metadata": {
    "collapsed": true
   },
   "outputs": [],
   "source": [
    "ratios = [9]"
   ]
  },
  {
   "cell_type": "code",
   "execution_count": 149,
   "metadata": {
    "collapsed": true
   },
   "outputs": [],
   "source": [
    "def combine_count_files(prefix, ratios, types, num, savefileprefix):\n",
    "    for ratio in ratios:\n",
    "        results = {}\n",
    "        for t in types:\n",
    "            results[t] = []\n",
    "        results['total 2-body'] = []\n",
    "        for i in range(1, num+1):\n",
    "            filename = prefix.format(ratio, i)\n",
    "            temp = pickle.load(open(filename, 'rb'))\n",
    "            for t in types:\n",
    "                results[t].extend(temp[t])\n",
    "            results['total 2-body'].extend([temp['2-20'][j]+temp['2-27'][j] for j,num in enumerate(temp['2-20'])])\n",
    "        pickle.dump(results,open(savefileprefix.format(ratio),'wb'))\n",
    "    return results  "
   ]
  },
  {
   "cell_type": "markdown",
   "metadata": {},
   "source": [
    "### no1NNnoT4T4 count T4T4 & T1T4"
   ]
  },
  {
   "cell_type": "code",
   "execution_count": 150,
   "metadata": {
    "collapsed": true
   },
   "outputs": [],
   "source": [
    "types = ['1-1','1-2','1-3','1-4','2-20','2-27']\n",
    "num = 50\n",
    "prefix = 'no1NNnoT4T4_T4frac50/swap_no1NNnoT4T4_T4frac50_count_T4T4_T1T4_{}_{}.p'\n",
    "savefileprefix = 'no1NNnoT4T4_T4frac50/swap_no1NNnoT4T4_T4frac50_count_T4T4_T1T4_{}_summary.p'\n",
    "results = combine_count_files(prefix, ratios,types, num, savefileprefix)"
   ]
  },
  {
   "cell_type": "code",
   "execution_count": 151,
   "metadata": {
    "collapsed": true
   },
   "outputs": [],
   "source": [
    "result_9 = pickle.load(open('no1NNnoT4T4_T4frac50/swap_no1NNnoT4T4_T4frac50_count_T4T4_T1T4_9_summary.p','rb'))"
   ]
  },
  {
   "cell_type": "code",
   "execution_count": 152,
   "metadata": {},
   "outputs": [
    {
     "data": {
      "text/plain": [
       "0.076639175257731965"
      ]
     },
     "execution_count": 152,
     "metadata": {},
     "output_type": "execute_result"
    }
   ],
   "source": [
    "np.mean(result_9['total 2-body'])/int(round(1/(1+9)*972))"
   ]
  },
  {
   "cell_type": "code",
   "execution_count": 153,
   "metadata": {},
   "outputs": [
    {
     "data": {
      "text/plain": [
       "0.0"
      ]
     },
     "execution_count": 153,
     "metadata": {},
     "output_type": "execute_result"
    }
   ],
   "source": [
    "np.mean(result_9['2-27'])/int(round(1/(1+9)*972))"
   ]
  },
  {
   "cell_type": "code",
   "execution_count": 154,
   "metadata": {},
   "outputs": [
    {
     "data": {
      "text/plain": [
       "0.076639175257731965"
      ]
     },
     "execution_count": 154,
     "metadata": {},
     "output_type": "execute_result"
    }
   ],
   "source": [
    "np.mean(result_9['2-20'])/int(round(1/(1+9)*972))"
   ]
  },
  {
   "cell_type": "code",
   "execution_count": 155,
   "metadata": {
    "scrolled": true
   },
   "outputs": [
    {
     "data": {
      "text/plain": [
       "48.0"
      ]
     },
     "execution_count": 155,
     "metadata": {},
     "output_type": "execute_result"
    }
   ],
   "source": [
    "np.mean(result_9['1-4'])"
   ]
  },
  {
   "cell_type": "markdown",
   "metadata": {},
   "source": [
    "### no1NNnoT4T4 count T4T4 & T1T4 excluding 3Al"
   ]
  },
  {
   "cell_type": "code",
   "execution_count": 156,
   "metadata": {
    "collapsed": true
   },
   "outputs": [],
   "source": [
    "types = ['1-1','1-2','1-3','1-4','2-20','2-27']\n",
    "num = 50\n",
    "prefix = 'no1NNnoT4T4_T4frac50/swap_no1NNnoT4T4_T4frac50_count_T4T4_T1T4_EX3Al_{}_{}.p'\n",
    "savefileprefix = 'no1NNnoT4T4_T4frac50/swap_no1NNnoT4T4_T4frac50_count_T4T4_T1T4_EX3Al_{}_summary.p'\n",
    "results = combine_count_files(prefix, ratios[:1], types, num, savefileprefix)"
   ]
  },
  {
   "cell_type": "code",
   "execution_count": 157,
   "metadata": {
    "collapsed": true
   },
   "outputs": [],
   "source": [
    "result_9 = pickle.load(open('no1NNnoT4T4_T4frac50/swap_no1NNnoT4T4_T4frac50_count_T4T4_T1T4_EX3Al_9_summary.p','rb'))"
   ]
  },
  {
   "cell_type": "code",
   "execution_count": 158,
   "metadata": {
    "scrolled": true
   },
   "outputs": [
    {
     "data": {
      "text/plain": [
       "0.071113402061855666"
      ]
     },
     "execution_count": 158,
     "metadata": {},
     "output_type": "execute_result"
    }
   ],
   "source": [
    "np.mean(result_9['total 2-body'])/int(round(1/(1+9)*972))"
   ]
  },
  {
   "cell_type": "code",
   "execution_count": 159,
   "metadata": {
    "scrolled": false
   },
   "outputs": [
    {
     "data": {
      "text/plain": [
       "0.0"
      ]
     },
     "execution_count": 159,
     "metadata": {},
     "output_type": "execute_result"
    }
   ],
   "source": [
    "np.mean(result_9['2-27'])/int(round(1/(1+9)*972))"
   ]
  },
  {
   "cell_type": "code",
   "execution_count": 160,
   "metadata": {},
   "outputs": [
    {
     "data": {
      "text/plain": [
       "0.071113402061855666"
      ]
     },
     "execution_count": 160,
     "metadata": {},
     "output_type": "execute_result"
    }
   ],
   "source": [
    "np.mean(result_9['2-20'])/int(round(1/(1+9)*972))"
   ]
  },
  {
   "cell_type": "code",
   "execution_count": 161,
   "metadata": {},
   "outputs": [
    {
     "data": {
      "text/plain": [
       "0.49208247422680412"
      ]
     },
     "execution_count": 161,
     "metadata": {},
     "output_type": "execute_result"
    }
   ],
   "source": [
    "np.mean(result_9['1-4'])/int(round(1/(1+9)*972))"
   ]
  },
  {
   "cell_type": "code",
   "execution_count": 169,
   "metadata": {
    "collapsed": true
   },
   "outputs": [],
   "source": [
    "def combine_titration_files(prefix, types, num, savefileprefix,both=True):\n",
    "    for t in types:\n",
    "        results = {}\n",
    "        if both:\n",
    "            results['2-20'] = []\n",
    "            results['total'] = []\n",
    "        results['2-27'] = []\n",
    "        for i in range(1, num+1):\n",
    "            filename = prefix.format(t, i)\n",
    "            temp = pickle.load(open(filename, 'rb'))\n",
    "            if both:\n",
    "                results['2-20'].extend(temp['2-20'])\n",
    "                results['total'].extend([temp['2-20'][j]+temp['2-27'][j]for j,num in enumerate(temp['2-20'])])\n",
    "            results['2-27'].extend(temp['2-27'])\n",
    "        pickle.dump(results,open(savefileprefix.format(t),'wb'))\n",
    "    return results  \n",
    "#[k] for k in range(len(temp['2-27'][0])) "
   ]
  },
  {
   "cell_type": "code",
   "execution_count": 170,
   "metadata": {
    "collapsed": true
   },
   "outputs": [],
   "source": [
    "def summarize_titrate_results(results, both=True):\n",
    "    temp = {}\n",
    "    if both:\n",
    "        temp['2-20'] = []\n",
    "        temp['total'] = []\n",
    "    temp['2-27'] = []\n",
    "    for index, item in enumerate(results['2-27']):\n",
    "        temp['2-27'].append(np.mean(item))\n",
    "        if both:\n",
    "            temp['2-20'].append(np.mean(results['2-20'][index]))\n",
    "            temp['total'].append(np.mean(item)+np.mean(results['2-20'][index]))\n",
    "    return temp"
   ]
  },
  {
   "cell_type": "markdown",
   "metadata": {},
   "source": [
    "### no1NNnoT4T4 titrate T4T4 & T4T1"
   ]
  },
  {
   "cell_type": "code",
   "execution_count": 164,
   "metadata": {
    "collapsed": true
   },
   "outputs": [],
   "source": [
    "types = ratios[:1]\n",
    "num = 50\n",
    "prefix = 'no1NNnoT4T4_T4frac50/swap_no1NNnoT4T4_T4frac50_titration_T4T4_T1T4_{}_{}.p'\n",
    "savefileprefix = 'no1NNnoT4T4_T4frac50/swap_no1NNnoT4T4_T4frac50_titration_T4T4_T1T4_{}_summary.p'\n",
    "results = combine_titration_files(prefix, types, num, savefileprefix)"
   ]
  },
  {
   "cell_type": "code",
   "execution_count": 165,
   "metadata": {},
   "outputs": [
    {
     "data": {
      "text/plain": [
       "0.073876288659793815"
      ]
     },
     "execution_count": 165,
     "metadata": {},
     "output_type": "execute_result"
    }
   ],
   "source": [
    "np.mean(results['total'])/int(round(1/(1+9)*972))"
   ]
  },
  {
   "cell_type": "code",
   "execution_count": 166,
   "metadata": {},
   "outputs": [
    {
     "data": {
      "text/plain": [
       "0.0"
      ]
     },
     "execution_count": 166,
     "metadata": {},
     "output_type": "execute_result"
    }
   ],
   "source": [
    "np.mean(results['2-27'])/int(round(1/(1+9)*972))"
   ]
  },
  {
   "cell_type": "code",
   "execution_count": 167,
   "metadata": {},
   "outputs": [
    {
     "data": {
      "text/plain": [
       "0.073876288659793815"
      ]
     },
     "execution_count": 167,
     "metadata": {},
     "output_type": "execute_result"
    }
   ],
   "source": [
    "np.mean(results['2-20'])/int(round(1/(1+9)*972))"
   ]
  },
  {
   "cell_type": "markdown",
   "metadata": {},
   "source": [
    "### no1NNnoT4T4 titrate T4T4 & T4T1 Exc3Al"
   ]
  },
  {
   "cell_type": "code",
   "execution_count": 168,
   "metadata": {
    "collapsed": true
   },
   "outputs": [],
   "source": [
    "types = ratios[:1]\n",
    "num = 50\n",
    "prefix = 'no1NNnoT4T4_T4frac50/swap_no1NNnoT4T4_T4frac50_titration_T4T4_T1T4_EX3Al_{}_{}.p'\n",
    "savefileprefix = 'no1NNnoT4T4_T4frac50/swap_no1NNnoT4T4_T4frac50_titration_T4T4_T1T4_EX3Al_{}_summary.p'\n",
    "results = combine_titration_files(prefix, types, num, savefileprefix)"
   ]
  },
  {
   "cell_type": "code",
   "execution_count": 169,
   "metadata": {},
   "outputs": [
    {
     "data": {
      "text/plain": [
       "0.071113402061855666"
      ]
     },
     "execution_count": 169,
     "metadata": {},
     "output_type": "execute_result"
    }
   ],
   "source": [
    "np.mean(results['total'])/int(round(1/(1+9)*972))"
   ]
  },
  {
   "cell_type": "code",
   "execution_count": 170,
   "metadata": {},
   "outputs": [
    {
     "data": {
      "text/plain": [
       "0.0"
      ]
     },
     "execution_count": 170,
     "metadata": {},
     "output_type": "execute_result"
    }
   ],
   "source": [
    "np.mean(results['2-27'])/int(round(1/(1+9)*972))"
   ]
  },
  {
   "cell_type": "code",
   "execution_count": 171,
   "metadata": {
    "scrolled": true
   },
   "outputs": [
    {
     "data": {
      "text/plain": [
       "0.071113402061855666"
      ]
     },
     "execution_count": 171,
     "metadata": {},
     "output_type": "execute_result"
    }
   ],
   "source": [
    "np.mean(results['2-20'])/int(round(1/(1+9)*972))"
   ]
  },
  {
   "cell_type": "markdown",
   "metadata": {},
   "source": [
    "### Si/Al=9 No1NN results"
   ]
  },
  {
   "cell_type": "code",
   "execution_count": 177,
   "metadata": {
    "collapsed": true
   },
   "outputs": [],
   "source": [
    "ratios = [9]"
   ]
  },
  {
   "cell_type": "code",
   "execution_count": 146,
   "metadata": {
    "collapsed": true
   },
   "outputs": [],
   "source": [
    "def combine_count_files(prefix, ratios, types, num, savefileprefix):\n",
    "    for ratio in ratios:\n",
    "        results = {}\n",
    "        for t in types:\n",
    "            results[t] = []\n",
    "        results['total 2-body'] = []\n",
    "        for i in range(1, num+1):\n",
    "            filename = prefix.format(ratio, i)\n",
    "            temp = pickle.load(open(filename, 'rb'))\n",
    "            for t in types:\n",
    "                results[t].extend(temp[t])\n",
    "            results['total 2-body'].extend([temp['2-20'][j]+temp['2-27'][j] for j,num in enumerate(temp['2-20'])])\n",
    "        pickle.dump(results,open(savefileprefix.format(ratio),'wb'))\n",
    "    return results  "
   ]
  },
  {
   "cell_type": "markdown",
   "metadata": {},
   "source": [
    "### no1NN count T4T4 & T1T4"
   ]
  },
  {
   "cell_type": "code",
   "execution_count": 178,
   "metadata": {
    "collapsed": true
   },
   "outputs": [],
   "source": [
    "types = ['1-1','1-2','1-3','1-4','2-20','2-27']\n",
    "num = 50\n",
    "prefix = 'no1NN/swap_no1NN_count_T4T4_T1T4_{}_{}.p'\n",
    "savefileprefix = 'no1NN/swap_no1NN_count_T4T4_T1T4_{}_summary.p'\n",
    "results = combine_count_files(prefix, ratios,types, num, savefileprefix)"
   ]
  },
  {
   "cell_type": "code",
   "execution_count": 179,
   "metadata": {
    "collapsed": true
   },
   "outputs": [],
   "source": [
    "result_9 = pickle.load(open('no1NN/swap_no1NN_count_T4T4_T1T4_9_summary.p','rb'))"
   ]
  },
  {
   "cell_type": "code",
   "execution_count": 180,
   "metadata": {},
   "outputs": [
    {
     "data": {
      "text/plain": [
       "0.029680412371134019"
      ]
     },
     "execution_count": 180,
     "metadata": {},
     "output_type": "execute_result"
    }
   ],
   "source": [
    "np.mean(result_9['total 2-body'])/int(round(1/(1+9)*972))"
   ]
  },
  {
   "cell_type": "code",
   "execution_count": 181,
   "metadata": {},
   "outputs": [
    {
     "data": {
      "text/plain": [
       "0.0053711340206185568"
      ]
     },
     "execution_count": 181,
     "metadata": {},
     "output_type": "execute_result"
    }
   ],
   "source": [
    "np.mean(result_9['2-27'])/int(round(1/(1+9)*972))"
   ]
  },
  {
   "cell_type": "code",
   "execution_count": 182,
   "metadata": {},
   "outputs": [
    {
     "data": {
      "text/plain": [
       "0.024309278350515464"
      ]
     },
     "execution_count": 182,
     "metadata": {},
     "output_type": "execute_result"
    }
   ],
   "source": [
    "np.mean(result_9['2-20'])/int(round(1/(1+9)*972))"
   ]
  },
  {
   "cell_type": "code",
   "execution_count": 184,
   "metadata": {
    "scrolled": true
   },
   "outputs": [
    {
     "data": {
      "text/plain": [
       "0.11099999999999999"
      ]
     },
     "execution_count": 184,
     "metadata": {},
     "output_type": "execute_result"
    }
   ],
   "source": [
    "np.mean(result_9['1-4'])/int(round(1/(1+9)*972))"
   ]
  },
  {
   "cell_type": "markdown",
   "metadata": {},
   "source": [
    "### no1NN count T4T4 & T1T4 excluding 3Al"
   ]
  },
  {
   "cell_type": "code",
   "execution_count": 185,
   "metadata": {
    "collapsed": true
   },
   "outputs": [],
   "source": [
    "types = ['1-1','1-2','1-3','1-4','2-20','2-27']\n",
    "num = 50\n",
    "prefix = 'no1NN/swap_no1NN_count_T4T4_T1T4_EX3Al_{}_{}.p'\n",
    "savefileprefix = 'no1NN/swap_no1NN_count_T4T4_T1T4_EX3Al_{}_summary.p'\n",
    "results = combine_count_files(prefix, ratios[:1], types, num, savefileprefix)"
   ]
  },
  {
   "cell_type": "code",
   "execution_count": 186,
   "metadata": {
    "collapsed": true
   },
   "outputs": [],
   "source": [
    "result_9 = pickle.load(open('no1NN/swap_no1NN_count_T4T4_T1T4_EX3Al_9_summary.p','rb'))"
   ]
  },
  {
   "cell_type": "code",
   "execution_count": 187,
   "metadata": {
    "scrolled": true
   },
   "outputs": [
    {
     "data": {
      "text/plain": [
       "0.026505154639175261"
      ]
     },
     "execution_count": 187,
     "metadata": {},
     "output_type": "execute_result"
    }
   ],
   "source": [
    "np.mean(result_9['total 2-body'])/int(round(1/(1+9)*972))"
   ]
  },
  {
   "cell_type": "code",
   "execution_count": 188,
   "metadata": {
    "scrolled": false
   },
   "outputs": [
    {
     "data": {
      "text/plain": [
       "0.0053711340206185568"
      ]
     },
     "execution_count": 188,
     "metadata": {},
     "output_type": "execute_result"
    }
   ],
   "source": [
    "np.mean(result_9['2-27'])/int(round(1/(1+9)*972))"
   ]
  },
  {
   "cell_type": "code",
   "execution_count": 189,
   "metadata": {},
   "outputs": [
    {
     "data": {
      "text/plain": [
       "0.021134020618556699"
      ]
     },
     "execution_count": 189,
     "metadata": {},
     "output_type": "execute_result"
    }
   ],
   "source": [
    "np.mean(result_9['2-20'])/int(round(1/(1+9)*972))"
   ]
  },
  {
   "cell_type": "code",
   "execution_count": 190,
   "metadata": {},
   "outputs": [
    {
     "data": {
      "text/plain": [
       "0.10941237113402061"
      ]
     },
     "execution_count": 190,
     "metadata": {},
     "output_type": "execute_result"
    }
   ],
   "source": [
    "np.mean(result_9['1-4'])/int(round(1/(1+9)*972))"
   ]
  },
  {
   "cell_type": "code",
   "execution_count": 169,
   "metadata": {
    "collapsed": true
   },
   "outputs": [],
   "source": [
    "def combine_titration_files(prefix, types, num, savefileprefix,both=True):\n",
    "    for t in types:\n",
    "        results = {}\n",
    "        if both:\n",
    "            results['2-20'] = []\n",
    "            results['total'] = []\n",
    "        results['2-27'] = []\n",
    "        for i in range(1, num+1):\n",
    "            filename = prefix.format(t, i)\n",
    "            temp = pickle.load(open(filename, 'rb'))\n",
    "            if both:\n",
    "                results['2-20'].extend(temp['2-20'])\n",
    "                results['total'].extend([temp['2-20'][j]+temp['2-27'][j]for j,num in enumerate(temp['2-20'])])\n",
    "            results['2-27'].extend(temp['2-27'])\n",
    "        pickle.dump(results,open(savefileprefix.format(t),'wb'))\n",
    "    return results  \n",
    "#[k] for k in range(len(temp['2-27'][0])) "
   ]
  },
  {
   "cell_type": "code",
   "execution_count": 170,
   "metadata": {
    "collapsed": true
   },
   "outputs": [],
   "source": [
    "def summarize_titrate_results(results, both=True):\n",
    "    temp = {}\n",
    "    if both:\n",
    "        temp['2-20'] = []\n",
    "        temp['total'] = []\n",
    "    temp['2-27'] = []\n",
    "    for index, item in enumerate(results['2-27']):\n",
    "        temp['2-27'].append(np.mean(item))\n",
    "        if both:\n",
    "            temp['2-20'].append(np.mean(results['2-20'][index]))\n",
    "            temp['total'].append(np.mean(item)+np.mean(results['2-20'][index]))\n",
    "    return temp"
   ]
  },
  {
   "cell_type": "markdown",
   "metadata": {},
   "source": [
    "### no1NN titrate T4T4 & T4T1"
   ]
  },
  {
   "cell_type": "code",
   "execution_count": 193,
   "metadata": {
    "collapsed": true
   },
   "outputs": [],
   "source": [
    "types = ratios[:1]\n",
    "num = 50\n",
    "prefix = 'no1NN/swap_no1NN_titration_T4T4_T1T4_{}_{}.p'\n",
    "savefileprefix = 'no1NN/swap_no1NN_titration_T4T4_T1T4_{}_summary.p'\n",
    "results = combine_titration_files(prefix, types, num, savefileprefix)"
   ]
  },
  {
   "cell_type": "code",
   "execution_count": 194,
   "metadata": {},
   "outputs": [
    {
     "data": {
      "text/plain": [
       "0.02809278350515464"
      ]
     },
     "execution_count": 194,
     "metadata": {},
     "output_type": "execute_result"
    }
   ],
   "source": [
    "np.mean(results['total'])/int(round(1/(1+9)*972))"
   ]
  },
  {
   "cell_type": "code",
   "execution_count": 195,
   "metadata": {},
   "outputs": [
    {
     "data": {
      "text/plain": [
       "0.0053711340206185568"
      ]
     },
     "execution_count": 195,
     "metadata": {},
     "output_type": "execute_result"
    }
   ],
   "source": [
    "np.mean(results['2-27'])/int(round(1/(1+9)*972))"
   ]
  },
  {
   "cell_type": "code",
   "execution_count": 196,
   "metadata": {},
   "outputs": [
    {
     "data": {
      "text/plain": [
       "0.022721649484536085"
      ]
     },
     "execution_count": 196,
     "metadata": {},
     "output_type": "execute_result"
    }
   ],
   "source": [
    "np.mean(results['2-20'])/int(round(1/(1+9)*972))"
   ]
  },
  {
   "cell_type": "markdown",
   "metadata": {},
   "source": [
    "### no1NN titrate T4T4 & T4T1 Exc3Al"
   ]
  },
  {
   "cell_type": "code",
   "execution_count": 197,
   "metadata": {
    "collapsed": true
   },
   "outputs": [],
   "source": [
    "types = ratios[:1]\n",
    "num = 50\n",
    "prefix = 'no1NN/swap_no1NN_titration_T4T4_T1T4_EX3Al_{}_{}.p'\n",
    "savefileprefix = 'no1NN/swap_no1NN_titration_T4T4_T1T4_EX3Al_{}_summary.p'\n",
    "results = combine_titration_files(prefix, types, num, savefileprefix)"
   ]
  },
  {
   "cell_type": "code",
   "execution_count": 198,
   "metadata": {},
   "outputs": [
    {
     "data": {
      "text/plain": [
       "0.026505154639175261"
      ]
     },
     "execution_count": 198,
     "metadata": {},
     "output_type": "execute_result"
    }
   ],
   "source": [
    "np.mean(results['total'])/int(round(1/(1+9)*972))"
   ]
  },
  {
   "cell_type": "code",
   "execution_count": 199,
   "metadata": {},
   "outputs": [
    {
     "data": {
      "text/plain": [
       "0.0053711340206185568"
      ]
     },
     "execution_count": 199,
     "metadata": {},
     "output_type": "execute_result"
    }
   ],
   "source": [
    "np.mean(results['2-27'])/int(round(1/(1+9)*972))"
   ]
  },
  {
   "cell_type": "code",
   "execution_count": 200,
   "metadata": {
    "scrolled": true
   },
   "outputs": [
    {
     "data": {
      "text/plain": [
       "0.021134020618556699"
      ]
     },
     "execution_count": 200,
     "metadata": {},
     "output_type": "execute_result"
    }
   ],
   "source": [
    "np.mean(results['2-20'])/int(round(1/(1+9)*972))"
   ]
  },
  {
   "cell_type": "markdown",
   "metadata": {},
   "source": [
    "### Si/Al=15results"
   ]
  },
  {
   "cell_type": "code",
   "execution_count": 35,
   "metadata": {
    "collapsed": true
   },
   "outputs": [],
   "source": [
    "ratios = [15]"
   ]
  },
  {
   "cell_type": "code",
   "execution_count": 36,
   "metadata": {
    "collapsed": true
   },
   "outputs": [],
   "source": [
    "def combine_count_files(prefix, ratios, types, num, savefileprefix):\n",
    "    for ratio in ratios:\n",
    "        results = {}\n",
    "        for t in types:\n",
    "            results[t] = []\n",
    "        results['total 2-body'] = []\n",
    "        for i in range(1, num+1):\n",
    "            filename = prefix.format(ratio, i)\n",
    "            temp = pickle.load(open(filename, 'rb'))\n",
    "            for t in types:\n",
    "                results[t].extend(temp[t])\n",
    "            results['total 2-body'].extend([temp['2-20'][j]+temp['2-27'][j] for j,num in enumerate(temp['2-20'])])\n",
    "        pickle.dump(results,open(savefileprefix.format(ratio),'wb'))\n",
    "    return results  "
   ]
  },
  {
   "cell_type": "markdown",
   "metadata": {},
   "source": [
    "### no1NN count T4T4 & T1T4"
   ]
  },
  {
   "cell_type": "code",
   "execution_count": 49,
   "metadata": {
    "collapsed": true
   },
   "outputs": [],
   "source": [
    "types = ['1-1','1-2','1-3','1-4','2-20','2-27']\n",
    "num = 50\n",
    "prefix = 'no1NN_T4frac84/swap_no1NN_T4frac84_count_T4T4_T1T4_{}_{}.p'\n",
    "savefileprefix = 'no1NN_T4frac84/swap_no1NN_T4frac84_count_T4T4_T1T4_{}_summary.p'\n",
    "results = combine_count_files(prefix, ratios,types, num, savefileprefix)"
   ]
  },
  {
   "cell_type": "code",
   "execution_count": 50,
   "metadata": {
    "collapsed": true
   },
   "outputs": [],
   "source": [
    "result_15 = pickle.load(open('no1NN_T4frac84/swap_no1NN_T4frac84_count_T4T4_T1T4_15_summary.p','rb'))"
   ]
  },
  {
   "cell_type": "code",
   "execution_count": 51,
   "metadata": {},
   "outputs": [
    {
     "data": {
      "text/plain": [
       "0.21086419753086422"
      ]
     },
     "execution_count": 51,
     "metadata": {},
     "output_type": "execute_result"
    }
   ],
   "source": [
    "np.mean(result_15['total 2-body'])/(1/(1+15)*972)"
   ]
  },
  {
   "cell_type": "code",
   "execution_count": 52,
   "metadata": {},
   "outputs": [
    {
     "data": {
      "text/plain": [
       "0.19624590163934427"
      ]
     },
     "execution_count": 52,
     "metadata": {},
     "output_type": "execute_result"
    }
   ],
   "source": [
    "np.mean(result_15['2-27'])/int(round(1/(1+15)*972))"
   ]
  },
  {
   "cell_type": "code",
   "execution_count": 53,
   "metadata": {},
   "outputs": [
    {
     "data": {
      "text/plain": [
       "0.013754098360655737"
      ]
     },
     "execution_count": 53,
     "metadata": {},
     "output_type": "execute_result"
    }
   ],
   "source": [
    "np.mean(result_15['2-20'])/int(round(1/(1+15)*972))"
   ]
  },
  {
   "cell_type": "code",
   "execution_count": 54,
   "metadata": {
    "scrolled": true
   },
   "outputs": [
    {
     "data": {
      "text/plain": [
       "0.83606557377049184"
      ]
     },
     "execution_count": 54,
     "metadata": {},
     "output_type": "execute_result"
    }
   ],
   "source": [
    "np.mean(result_15['1-4'])/int(round(1/(1+15)*972))"
   ]
  },
  {
   "cell_type": "markdown",
   "metadata": {},
   "source": [
    "### no1NN count T4T4 & T1T4 excluding 3Al"
   ]
  },
  {
   "cell_type": "code",
   "execution_count": 55,
   "metadata": {
    "collapsed": true
   },
   "outputs": [],
   "source": [
    "types = ['1-1','1-2','1-3','1-4','2-20','2-27']\n",
    "num = 50\n",
    "prefix = 'no1NN_T4frac84/swap_no1NN_T4frac84_count_T4T4_T1T4_EX3Al_{}_{}.p'\n",
    "savefileprefix = 'no1NN_T4frac84/swap_no1NN_T4frac84_count_T4T4_T1T4_EX3Al_{}_summary.p'\n",
    "results = combine_count_files(prefix, ratios[:1], types, num, savefileprefix)"
   ]
  },
  {
   "cell_type": "code",
   "execution_count": 58,
   "metadata": {
    "collapsed": true
   },
   "outputs": [],
   "source": [
    "result = pickle.load(open('no1NN_T4frac84/swap_no1NN_T4frac84_count_T4T4_T1T4_EX3Al_15_summary.p','rb'))"
   ]
  },
  {
   "cell_type": "code",
   "execution_count": 59,
   "metadata": {
    "scrolled": true
   },
   "outputs": [
    {
     "data": {
      "text/plain": [
       "0.20960655737704917"
      ]
     },
     "execution_count": 59,
     "metadata": {},
     "output_type": "execute_result"
    }
   ],
   "source": [
    "np.mean(result['total 2-body'])/int(round(1/(1+15)*972))"
   ]
  },
  {
   "cell_type": "code",
   "execution_count": 60,
   "metadata": {
    "scrolled": false
   },
   "outputs": [
    {
     "data": {
      "text/plain": [
       "0.19624590163934427"
      ]
     },
     "execution_count": 60,
     "metadata": {},
     "output_type": "execute_result"
    }
   ],
   "source": [
    "np.mean(result['2-27'])/int(round(1/(1+15)*972))"
   ]
  },
  {
   "cell_type": "code",
   "execution_count": 61,
   "metadata": {},
   "outputs": [
    {
     "data": {
      "text/plain": [
       "0.013360655737704917"
      ]
     },
     "execution_count": 61,
     "metadata": {},
     "output_type": "execute_result"
    }
   ],
   "source": [
    "np.mean(result['2-20'])/int(round(1/(1+15)*972))"
   ]
  },
  {
   "cell_type": "code",
   "execution_count": 62,
   "metadata": {},
   "outputs": [
    {
     "data": {
      "text/plain": [
       "0.83586885245901643"
      ]
     },
     "execution_count": 62,
     "metadata": {},
     "output_type": "execute_result"
    }
   ],
   "source": [
    "np.mean(result['1-4'])/int(round(1/(1+15)*972))"
   ]
  },
  {
   "cell_type": "code",
   "execution_count": 63,
   "metadata": {
    "collapsed": true
   },
   "outputs": [],
   "source": [
    "def combine_titration_files(prefix, types, num, savefileprefix,both=True):\n",
    "    for t in types:\n",
    "        results = {}\n",
    "        if both:\n",
    "            results['2-20'] = []\n",
    "            results['total'] = []\n",
    "        results['2-27'] = []\n",
    "        for i in range(1, num+1):\n",
    "            filename = prefix.format(t, i)\n",
    "            temp = pickle.load(open(filename, 'rb'))\n",
    "            if both:\n",
    "                results['2-20'].extend(temp['2-20'])\n",
    "                results['total'].extend([temp['2-20'][j]+temp['2-27'][j]for j,num in enumerate(temp['2-20'])])\n",
    "            results['2-27'].extend(temp['2-27'])\n",
    "        pickle.dump(results,open(savefileprefix.format(t),'wb'))\n",
    "    return results  \n",
    "#[k] for k in range(len(temp['2-27'][0])) "
   ]
  },
  {
   "cell_type": "code",
   "execution_count": 64,
   "metadata": {
    "collapsed": true
   },
   "outputs": [],
   "source": [
    "def summarize_titrate_results(results, both=True):\n",
    "    temp = {}\n",
    "    if both:\n",
    "        temp['2-20'] = []\n",
    "        temp['total'] = []\n",
    "    temp['2-27'] = []\n",
    "    for index, item in enumerate(results['2-27']):\n",
    "        temp['2-27'].append(np.mean(item))\n",
    "        if both:\n",
    "            temp['2-20'].append(np.mean(results['2-20'][index]))\n",
    "            temp['total'].append(np.mean(item)+np.mean(results['2-20'][index]))\n",
    "    return temp"
   ]
  },
  {
   "cell_type": "markdown",
   "metadata": {},
   "source": [
    "### no1NN titrate T4T4"
   ]
  },
  {
   "cell_type": "code",
   "execution_count": 65,
   "metadata": {
    "collapsed": true
   },
   "outputs": [],
   "source": [
    "types = ratios[:1]\n",
    "num = 50\n",
    "prefix = 'no1NN_T4frac84/swap_no1NN_T4frac84_titration_T4T4_{}_{}.p'\n",
    "savefileprefix = 'no1NN_T4frac84/swap_no1NN_T4frac84_titration_T4T4_{}_summary.p'\n",
    "results = combine_titration_files(prefix, types, num, savefileprefix,both=False)"
   ]
  },
  {
   "cell_type": "code",
   "execution_count": 66,
   "metadata": {
    "scrolled": true
   },
   "outputs": [
    {
     "data": {
      "text/plain": [
       "0.19705349794238683"
      ]
     },
     "execution_count": 66,
     "metadata": {},
     "output_type": "execute_result"
    }
   ],
   "source": [
    "np.mean(results['2-27'])/(1/(1+15)*972)"
   ]
  },
  {
   "cell_type": "markdown",
   "metadata": {},
   "source": [
    "### no1NN titrate T4T4 Exc3Al"
   ]
  },
  {
   "cell_type": "code",
   "execution_count": 102,
   "metadata": {
    "collapsed": true
   },
   "outputs": [],
   "source": [
    "types = ratios\n",
    "num = 50\n",
    "prefix = 'no1NN_T4frac84/swap_no1NN_T4frac84_titration_T4T4_EX3Al_{}_{}.p'\n",
    "savefileprefix = 'no1NN_T4frac84/swap_no1NN_T4frac84_titration_T4T4_EX3Al_{}_summary.p'\n",
    "results = combine_titration_files(prefix, types, num, savefileprefix,both=False)"
   ]
  },
  {
   "cell_type": "code",
   "execution_count": 103,
   "metadata": {},
   "outputs": [
    {
     "data": {
      "text/plain": [
       "0.19705349794238683"
      ]
     },
     "execution_count": 103,
     "metadata": {},
     "output_type": "execute_result"
    }
   ],
   "source": [
    "np.mean(results['2-27'])/(1/(1+15)*972)"
   ]
  },
  {
   "cell_type": "markdown",
   "metadata": {},
   "source": [
    "### no1NN titrate T4T4 & T4T1"
   ]
  },
  {
   "cell_type": "code",
   "execution_count": 104,
   "metadata": {
    "collapsed": true
   },
   "outputs": [],
   "source": [
    "types = ratios[:1]\n",
    "num = 50\n",
    "prefix = 'no1NN_T4frac84/swap_no1NN_T4frac84_titration_T4T4_T1T4_{}_{}.p'\n",
    "savefileprefix = 'no1NN_T4frac84/swap_no1NN_T4frac84_titration_T4T4_T1T4_{}_summary.p'\n",
    "results = combine_titration_files(prefix, types, num, savefileprefix)"
   ]
  },
  {
   "cell_type": "code",
   "execution_count": 105,
   "metadata": {},
   "outputs": [
    {
     "data": {
      "text/plain": [
       "0.21066666666666667"
      ]
     },
     "execution_count": 105,
     "metadata": {},
     "output_type": "execute_result"
    }
   ],
   "source": [
    "np.mean(results['total'])/(1/(1+15)*972)"
   ]
  },
  {
   "cell_type": "code",
   "execution_count": 106,
   "metadata": {},
   "outputs": [
    {
     "data": {
      "text/plain": [
       "0.19705349794238683"
      ]
     },
     "execution_count": 106,
     "metadata": {},
     "output_type": "execute_result"
    }
   ],
   "source": [
    "np.mean(results['2-27'])/(1/(1+15)*972)"
   ]
  },
  {
   "cell_type": "code",
   "execution_count": 107,
   "metadata": {},
   "outputs": [
    {
     "data": {
      "text/plain": [
       "0.013613168724279834"
      ]
     },
     "execution_count": 107,
     "metadata": {},
     "output_type": "execute_result"
    }
   ],
   "source": [
    "np.mean(results['2-20'])/(1/(1+15)*972)"
   ]
  },
  {
   "cell_type": "markdown",
   "metadata": {},
   "source": [
    "### no1NN titrate T4T4 & T4T1 Exc3Al"
   ]
  },
  {
   "cell_type": "code",
   "execution_count": 108,
   "metadata": {
    "collapsed": true
   },
   "outputs": [],
   "source": [
    "types = ratios[:1]\n",
    "num = 50\n",
    "prefix = 'no1NN_T4frac84/swap_no1NN_T4frac84_titration_T4T4_T1T4_EX3Al_{}_{}.p'\n",
    "savefileprefix = 'no1NN_T4frac84/swap_no1NN_T4frac84_titration_T4T4_T1T4_EX3Al_{}_summary.p'\n",
    "results = combine_titration_files(prefix, types, num, savefileprefix)"
   ]
  },
  {
   "cell_type": "code",
   "execution_count": 109,
   "metadata": {},
   "outputs": [
    {
     "data": {
      "text/plain": [
       "0.21046913580246912"
      ]
     },
     "execution_count": 109,
     "metadata": {},
     "output_type": "execute_result"
    }
   ],
   "source": [
    "np.mean(results['total'])/(1/(1+15)*972)"
   ]
  },
  {
   "cell_type": "code",
   "execution_count": 110,
   "metadata": {},
   "outputs": [
    {
     "data": {
      "text/plain": [
       "0.19705349794238683"
      ]
     },
     "execution_count": 110,
     "metadata": {},
     "output_type": "execute_result"
    }
   ],
   "source": [
    "np.mean(results['2-27'])/(1/(1+15)*972)"
   ]
  },
  {
   "cell_type": "code",
   "execution_count": 111,
   "metadata": {},
   "outputs": [
    {
     "data": {
      "text/plain": [
       "0.013415637860082303"
      ]
     },
     "execution_count": 111,
     "metadata": {},
     "output_type": "execute_result"
    }
   ],
   "source": [
    "np.mean(results['2-20'])/(1/(1+15)*972)"
   ]
  },
  {
   "cell_type": "markdown",
   "metadata": {},
   "source": [
    "### Si/Al=15 No1NNnoT4T4 T4frac84 results"
   ]
  },
  {
   "cell_type": "code",
   "execution_count": 75,
   "metadata": {
    "collapsed": true
   },
   "outputs": [],
   "source": [
    "ratios = [15]"
   ]
  },
  {
   "cell_type": "code",
   "execution_count": 76,
   "metadata": {
    "collapsed": true
   },
   "outputs": [],
   "source": [
    "def combine_count_files(prefix, ratios, types, num, savefileprefix):\n",
    "    for ratio in ratios:\n",
    "        results = {}\n",
    "        for t in types:\n",
    "            results[t] = []\n",
    "        results['total 2-body'] = []\n",
    "        for i in range(1, num+1):\n",
    "            filename = prefix.format(ratio, i)\n",
    "            temp = pickle.load(open(filename, 'rb'))\n",
    "            for t in types:\n",
    "                results[t].extend(temp[t])\n",
    "            results['total 2-body'].extend([temp['2-20'][j]+temp['2-27'][j] for j,num in enumerate(temp['2-20'])])\n",
    "        pickle.dump(results,open(savefileprefix.format(ratio),'wb'))\n",
    "    return results  "
   ]
  },
  {
   "cell_type": "markdown",
   "metadata": {},
   "source": [
    "### no1NNnoT4T4 count T4T4 & T1T4"
   ]
  },
  {
   "cell_type": "code",
   "execution_count": 112,
   "metadata": {
    "collapsed": true
   },
   "outputs": [],
   "source": [
    "types = ['1-1','1-2','1-3','1-4','2-20','2-27']\n",
    "num = 50\n",
    "prefix = 'no1NNnoT4T4_T4frac84/swap_no1NNnoT4T4_T4frac84_count_T4T4_T1T4_{}_{}.p'\n",
    "savefileprefix = 'no1NNnoT4T4_T4frac84/swap_no1NNnoT4T4_T4frac84_count_T4T4_T1T4_{}_summary.p'\n",
    "results = combine_count_files(prefix, ratios,types, num, savefileprefix)"
   ]
  },
  {
   "cell_type": "code",
   "execution_count": 113,
   "metadata": {
    "collapsed": true
   },
   "outputs": [],
   "source": [
    "result_15 = pickle.load(open('no1NNnoT4T4_T4frac84/swap_no1NNnoT4T4_T4frac84_count_T4T4_T1T4_15_summary.p','rb'))"
   ]
  },
  {
   "cell_type": "code",
   "execution_count": 114,
   "metadata": {},
   "outputs": [
    {
     "data": {
      "text/plain": [
       "0.02577049180327869"
      ]
     },
     "execution_count": 114,
     "metadata": {},
     "output_type": "execute_result"
    }
   ],
   "source": [
    "np.mean(result_15['total 2-body'])/int(round(1/(1+15)*972))"
   ]
  },
  {
   "cell_type": "code",
   "execution_count": 80,
   "metadata": {},
   "outputs": [
    {
     "data": {
      "text/plain": [
       "0.0"
      ]
     },
     "execution_count": 80,
     "metadata": {},
     "output_type": "execute_result"
    }
   ],
   "source": [
    "np.mean(result_15['2-27'])/int(round(1/(1+15)*972))"
   ]
  },
  {
   "cell_type": "code",
   "execution_count": 81,
   "metadata": {},
   "outputs": [
    {
     "data": {
      "text/plain": [
       "0.02577049180327869"
      ]
     },
     "execution_count": 81,
     "metadata": {},
     "output_type": "execute_result"
    }
   ],
   "source": [
    "np.mean(result_15['2-20'])/int(round(1/(1+15)*972))"
   ]
  },
  {
   "cell_type": "code",
   "execution_count": 82,
   "metadata": {
    "scrolled": true
   },
   "outputs": [
    {
     "data": {
      "text/plain": [
       "0.83606557377049184"
      ]
     },
     "execution_count": 82,
     "metadata": {},
     "output_type": "execute_result"
    }
   ],
   "source": [
    "np.mean(result_15['1-4'])/int(round(1/(1+15)*972))"
   ]
  },
  {
   "cell_type": "markdown",
   "metadata": {},
   "source": [
    "### no1NNnoT4T4 count T4T4 & T1T4 excluding 3Al"
   ]
  },
  {
   "cell_type": "code",
   "execution_count": 83,
   "metadata": {
    "collapsed": true
   },
   "outputs": [],
   "source": [
    "types = ['1-1','1-2','1-3','1-4','2-20','2-27']\n",
    "num = 50\n",
    "prefix = 'no1NNnoT4T4_T4frac84/swap_no1NNnoT4T4_T4frac84_count_T4T4_T1T4_EX3Al_{}_{}.p'\n",
    "savefileprefix = 'no1NNnoT4T4_T4frac84/swap_no1NNnoT4T4_T4frac84_count_T4T4_T1T4_EX3Al_{}_summary.p'\n",
    "results = combine_count_files(prefix, ratios[:1], types, num, savefileprefix)"
   ]
  },
  {
   "cell_type": "code",
   "execution_count": 84,
   "metadata": {
    "collapsed": true
   },
   "outputs": [],
   "source": [
    "result = pickle.load(open('no1NNnoT4T4_T4frac84/swap_no1NNnoT4T4_T4frac84_count_T4T4_T1T4_EX3Al_15_summary.p','rb'))"
   ]
  },
  {
   "cell_type": "code",
   "execution_count": 85,
   "metadata": {
    "scrolled": true
   },
   "outputs": [
    {
     "data": {
      "text/plain": [
       "0.025442622950819675"
      ]
     },
     "execution_count": 85,
     "metadata": {},
     "output_type": "execute_result"
    }
   ],
   "source": [
    "np.mean(result['total 2-body'])/int(round(1/(1+15)*972))"
   ]
  },
  {
   "cell_type": "code",
   "execution_count": 86,
   "metadata": {
    "scrolled": false
   },
   "outputs": [
    {
     "data": {
      "text/plain": [
       "0.0"
      ]
     },
     "execution_count": 86,
     "metadata": {},
     "output_type": "execute_result"
    }
   ],
   "source": [
    "np.mean(result['2-27'])/int(round(1/(1+15)*972))"
   ]
  },
  {
   "cell_type": "code",
   "execution_count": 87,
   "metadata": {},
   "outputs": [
    {
     "data": {
      "text/plain": [
       "0.025442622950819675"
      ]
     },
     "execution_count": 87,
     "metadata": {},
     "output_type": "execute_result"
    }
   ],
   "source": [
    "np.mean(result['2-20'])/int(round(1/(1+15)*972))"
   ]
  },
  {
   "cell_type": "code",
   "execution_count": 88,
   "metadata": {},
   "outputs": [
    {
     "data": {
      "text/plain": [
       "0.83590163934426231"
      ]
     },
     "execution_count": 88,
     "metadata": {},
     "output_type": "execute_result"
    }
   ],
   "source": [
    "np.mean(result['1-4'])/int(round(1/(1+15)*972))"
   ]
  },
  {
   "cell_type": "code",
   "execution_count": 89,
   "metadata": {
    "collapsed": true
   },
   "outputs": [],
   "source": [
    "def combine_titration_files(prefix, types, num, savefileprefix,both=True):\n",
    "    for t in types:\n",
    "        results = {}\n",
    "        if both:\n",
    "            results['2-20'] = []\n",
    "            results['total'] = []\n",
    "        results['2-27'] = []\n",
    "        for i in range(1, num+1):\n",
    "            filename = prefix.format(t, i)\n",
    "            temp = pickle.load(open(filename, 'rb'))\n",
    "            if both:\n",
    "                results['2-20'].extend(temp['2-20'])\n",
    "                results['total'].extend([temp['2-20'][j]+temp['2-27'][j]for j,num in enumerate(temp['2-20'])])\n",
    "            results['2-27'].extend(temp['2-27'])\n",
    "        pickle.dump(results,open(savefileprefix.format(t),'wb'))\n",
    "    return results  \n",
    "#[k] for k in range(len(temp['2-27'][0])) "
   ]
  },
  {
   "cell_type": "code",
   "execution_count": 90,
   "metadata": {
    "collapsed": true
   },
   "outputs": [],
   "source": [
    "def summarize_titrate_results(results, both=True):\n",
    "    temp = {}\n",
    "    if both:\n",
    "        temp['2-20'] = []\n",
    "        temp['total'] = []\n",
    "    temp['2-27'] = []\n",
    "    for index, item in enumerate(results['2-27']):\n",
    "        temp['2-27'].append(np.mean(item))\n",
    "        if both:\n",
    "            temp['2-20'].append(np.mean(results['2-20'][index]))\n",
    "            temp['total'].append(np.mean(item)+np.mean(results['2-20'][index]))\n",
    "    return temp"
   ]
  },
  {
   "cell_type": "markdown",
   "metadata": {},
   "source": [
    "### no1NNnoT4T4 titrate T4T4 & T4T1"
   ]
  },
  {
   "cell_type": "code",
   "execution_count": 98,
   "metadata": {
    "collapsed": true
   },
   "outputs": [],
   "source": [
    "types = ratios[:1]\n",
    "num = 50\n",
    "prefix = 'no1NNnoT4T4_T4frac84/swap_no1NNnoT4T4_T4frac84_t\n",
    "itration_T4T4_T1T4_{}_{}.p'\n",
    "savefileprefix = 'no1NNnoT4T4_T4frac84/swap_no1NNnoT4T4_T4frac84_titration_T4T4_T1T4_{}_summary.p'\n",
    "results = combine_titration_files(prefix, types, num, savefileprefix)"
   ]
  },
  {
   "cell_type": "code",
   "execution_count": 99,
   "metadata": {},
   "outputs": [
    {
     "data": {
      "text/plain": [
       "0.025711934156378603"
      ]
     },
     "execution_count": 99,
     "metadata": {},
     "output_type": "execute_result"
    }
   ],
   "source": [
    "np.mean(results['total'])/(1/(1+15)*972)"
   ]
  },
  {
   "cell_type": "markdown",
   "metadata": {},
   "source": [
    "### no1NNnoT4T4 titrate T4T4 & T4T1 Exc3Al"
   ]
  },
  {
   "cell_type": "code",
   "execution_count": 100,
   "metadata": {
    "collapsed": true
   },
   "outputs": [],
   "source": [
    "types = ratios[:1]\n",
    "num = 50\n",
    "prefix = 'no1NNnoT4T4_T4frac84/swap_no1NNnoT4T4_T4frac84_titration_T4T4_T1T4_EX3Al_{}_{}.p'\n",
    "savefileprefix = 'no1NNnoT4T4_T4frac84/swap_no1NNnoT4T4_T4frac84_titration_T4T4_T1T4_EX3Al_{}_summary.p'\n",
    "results = combine_titration_files(prefix, types, num, savefileprefix)"
   ]
  },
  {
   "cell_type": "code",
   "execution_count": 101,
   "metadata": {},
   "outputs": [
    {
     "data": {
      "text/plain": [
       "0.025547325102880658"
      ]
     },
     "execution_count": 101,
     "metadata": {},
     "output_type": "execute_result"
    }
   ],
   "source": [
    "np.mean(results['total'])/(1/(1+15)*972)"
   ]
  },
  {
   "cell_type": "markdown",
   "metadata": {},
   "source": [
    "### Si/Al=15results"
   ]
  },
  {
   "cell_type": "code",
   "execution_count": 35,
   "metadata": {
    "collapsed": true
   },
   "outputs": [],
   "source": [
    "ratios = [15]"
   ]
  },
  {
   "cell_type": "code",
   "execution_count": 36,
   "metadata": {
    "collapsed": true
   },
   "outputs": [],
   "source": [
    "def combine_count_files(prefix, ratios, types, num, savefileprefix):\n",
    "    for ratio in ratios:\n",
    "        results = {}\n",
    "        for t in types:\n",
    "            results[t] = []\n",
    "        results['total 2-body'] = []\n",
    "        for i in range(1, num+1):\n",
    "            filename = prefix.format(ratio, i)\n",
    "            temp = pickle.load(open(filename, 'rb'))\n",
    "            for t in types:\n",
    "                results[t].extend(temp[t])\n",
    "            results['total 2-body'].extend([temp['2-20'][j]+temp['2-27'][j] for j,num in enumerate(temp['2-20'])])\n",
    "        pickle.dump(results,open(savefileprefix.format(ratio),'wb'))\n",
    "    return results  "
   ]
  },
  {
   "cell_type": "markdown",
   "metadata": {},
   "source": [
    "### no1NN count T4T4 & T1T4"
   ]
  },
  {
   "cell_type": "code",
   "execution_count": 49,
   "metadata": {
    "collapsed": true
   },
   "outputs": [],
   "source": [
    "types = ['1-1','1-2','1-3','1-4','2-20','2-27']\n",
    "num = 50\n",
    "prefix = 'no1NN_T4frac84/swap_no1NN_T4frac84_count_T4T4_T1T4_{}_{}.p'\n",
    "savefileprefix = 'no1NN_T4frac84/swap_no1NN_T4frac84_count_T4T4_T1T4_{}_summary.p'\n",
    "results = combine_count_files(prefix, ratios,types, num, savefileprefix)"
   ]
  },
  {
   "cell_type": "code",
   "execution_count": 50,
   "metadata": {
    "collapsed": true
   },
   "outputs": [],
   "source": [
    "result_15 = pickle.load(open('no1NN_T4frac84/swap_no1NN_T4frac84_count_T4T4_T1T4_15_summary.p','rb'))"
   ]
  },
  {
   "cell_type": "code",
   "execution_count": 51,
   "metadata": {},
   "outputs": [
    {
     "data": {
      "text/plain": [
       "0.21086419753086422"
      ]
     },
     "execution_count": 51,
     "metadata": {},
     "output_type": "execute_result"
    }
   ],
   "source": [
    "np.mean(result_15['total 2-body'])/(1/(1+15)*972)"
   ]
  },
  {
   "cell_type": "code",
   "execution_count": 52,
   "metadata": {},
   "outputs": [
    {
     "data": {
      "text/plain": [
       "0.19624590163934427"
      ]
     },
     "execution_count": 52,
     "metadata": {},
     "output_type": "execute_result"
    }
   ],
   "source": [
    "np.mean(result_15['2-27'])/int(round(1/(1+15)*972))"
   ]
  },
  {
   "cell_type": "code",
   "execution_count": 53,
   "metadata": {},
   "outputs": [
    {
     "data": {
      "text/plain": [
       "0.013754098360655737"
      ]
     },
     "execution_count": 53,
     "metadata": {},
     "output_type": "execute_result"
    }
   ],
   "source": [
    "np.mean(result_15['2-20'])/int(round(1/(1+15)*972))"
   ]
  },
  {
   "cell_type": "code",
   "execution_count": 54,
   "metadata": {
    "scrolled": true
   },
   "outputs": [
    {
     "data": {
      "text/plain": [
       "0.83606557377049184"
      ]
     },
     "execution_count": 54,
     "metadata": {},
     "output_type": "execute_result"
    }
   ],
   "source": [
    "np.mean(result_15['1-4'])/int(round(1/(1+15)*972))"
   ]
  },
  {
   "cell_type": "markdown",
   "metadata": {},
   "source": [
    "### no1NN count T4T4 & T1T4 excluding 3Al"
   ]
  },
  {
   "cell_type": "code",
   "execution_count": 55,
   "metadata": {
    "collapsed": true
   },
   "outputs": [],
   "source": [
    "types = ['1-1','1-2','1-3','1-4','2-20','2-27']\n",
    "num = 50\n",
    "prefix = 'no1NN_T4frac84/swap_no1NN_T4frac84_count_T4T4_T1T4_EX3Al_{}_{}.p'\n",
    "savefileprefix = 'no1NN_T4frac84/swap_no1NN_T4frac84_count_T4T4_T1T4_EX3Al_{}_summary.p'\n",
    "results = combine_count_files(prefix, ratios[:1], types, num, savefileprefix)"
   ]
  },
  {
   "cell_type": "code",
   "execution_count": 58,
   "metadata": {
    "collapsed": true
   },
   "outputs": [],
   "source": [
    "result = pickle.load(open('no1NN_T4frac84/swap_no1NN_T4frac84_count_T4T4_T1T4_EX3Al_15_summary.p','rb'))"
   ]
  },
  {
   "cell_type": "code",
   "execution_count": 59,
   "metadata": {
    "scrolled": true
   },
   "outputs": [
    {
     "data": {
      "text/plain": [
       "0.20960655737704917"
      ]
     },
     "execution_count": 59,
     "metadata": {},
     "output_type": "execute_result"
    }
   ],
   "source": [
    "np.mean(result['total 2-body'])/int(round(1/(1+15)*972))"
   ]
  },
  {
   "cell_type": "code",
   "execution_count": 60,
   "metadata": {
    "scrolled": false
   },
   "outputs": [
    {
     "data": {
      "text/plain": [
       "0.19624590163934427"
      ]
     },
     "execution_count": 60,
     "metadata": {},
     "output_type": "execute_result"
    }
   ],
   "source": [
    "np.mean(result['2-27'])/int(round(1/(1+15)*972))"
   ]
  },
  {
   "cell_type": "code",
   "execution_count": 61,
   "metadata": {},
   "outputs": [
    {
     "data": {
      "text/plain": [
       "0.013360655737704917"
      ]
     },
     "execution_count": 61,
     "metadata": {},
     "output_type": "execute_result"
    }
   ],
   "source": [
    "np.mean(result['2-20'])/int(round(1/(1+15)*972))"
   ]
  },
  {
   "cell_type": "code",
   "execution_count": 62,
   "metadata": {},
   "outputs": [
    {
     "data": {
      "text/plain": [
       "0.83586885245901643"
      ]
     },
     "execution_count": 62,
     "metadata": {},
     "output_type": "execute_result"
    }
   ],
   "source": [
    "np.mean(result['1-4'])/int(round(1/(1+15)*972))"
   ]
  },
  {
   "cell_type": "code",
   "execution_count": 63,
   "metadata": {
    "collapsed": true
   },
   "outputs": [],
   "source": [
    "def combine_titration_files(prefix, types, num, savefileprefix,both=True):\n",
    "    for t in types:\n",
    "        results = {}\n",
    "        if both:\n",
    "            results['2-20'] = []\n",
    "            results['total'] = []\n",
    "        results['2-27'] = []\n",
    "        for i in range(1, num+1):\n",
    "            filename = prefix.format(t, i)\n",
    "            temp = pickle.load(open(filename, 'rb'))\n",
    "            if both:\n",
    "                results['2-20'].extend(temp['2-20'])\n",
    "                results['total'].extend([temp['2-20'][j]+temp['2-27'][j]for j,num in enumerate(temp['2-20'])])\n",
    "            results['2-27'].extend(temp['2-27'])\n",
    "        pickle.dump(results,open(savefileprefix.format(t),'wb'))\n",
    "    return results  \n",
    "#[k] for k in range(len(temp['2-27'][0])) "
   ]
  },
  {
   "cell_type": "code",
   "execution_count": 64,
   "metadata": {
    "collapsed": true
   },
   "outputs": [],
   "source": [
    "def summarize_titrate_results(results, both=True):\n",
    "    temp = {}\n",
    "    if both:\n",
    "        temp['2-20'] = []\n",
    "        temp['total'] = []\n",
    "    temp['2-27'] = []\n",
    "    for index, item in enumerate(results['2-27']):\n",
    "        temp['2-27'].append(np.mean(item))\n",
    "        if both:\n",
    "            temp['2-20'].append(np.mean(results['2-20'][index]))\n",
    "            temp['total'].append(np.mean(item)+np.mean(results['2-20'][index]))\n",
    "    return temp"
   ]
  },
  {
   "cell_type": "markdown",
   "metadata": {},
   "source": [
    "### no1NN titrate T4T4"
   ]
  },
  {
   "cell_type": "code",
   "execution_count": 65,
   "metadata": {
    "collapsed": true
   },
   "outputs": [],
   "source": [
    "types = ratios[:1]\n",
    "num = 50\n",
    "prefix = 'no1NN_T4frac84/swap_no1NN_T4frac84_titration_T4T4_{}_{}.p'\n",
    "savefileprefix = 'no1NN_T4frac84/swap_no1NN_T4frac84_titration_T4T4_{}_summary.p'\n",
    "results = combine_titration_files(prefix, types, num, savefileprefix,both=False)"
   ]
  },
  {
   "cell_type": "code",
   "execution_count": 66,
   "metadata": {
    "scrolled": true
   },
   "outputs": [
    {
     "data": {
      "text/plain": [
       "0.19705349794238683"
      ]
     },
     "execution_count": 66,
     "metadata": {},
     "output_type": "execute_result"
    }
   ],
   "source": [
    "np.mean(results['2-27'])/(1/(1+15)*972)"
   ]
  },
  {
   "cell_type": "markdown",
   "metadata": {},
   "source": [
    "### no1NN titrate T4T4 Exc3Al"
   ]
  },
  {
   "cell_type": "code",
   "execution_count": 102,
   "metadata": {
    "collapsed": true
   },
   "outputs": [],
   "source": [
    "types = ratios\n",
    "num = 50\n",
    "prefix = 'no1NN_T4frac84/swap_no1NN_T4frac84_titration_T4T4_EX3Al_{}_{}.p'\n",
    "savefileprefix = 'no1NN_T4frac84/swap_no1NN_T4frac84_titration_T4T4_EX3Al_{}_summary.p'\n",
    "results = combine_titration_files(prefix, types, num, savefileprefix,both=False)"
   ]
  },
  {
   "cell_type": "code",
   "execution_count": 103,
   "metadata": {},
   "outputs": [
    {
     "data": {
      "text/plain": [
       "0.19705349794238683"
      ]
     },
     "execution_count": 103,
     "metadata": {},
     "output_type": "execute_result"
    }
   ],
   "source": [
    "np.mean(results['2-27'])/(1/(1+15)*972)"
   ]
  },
  {
   "cell_type": "markdown",
   "metadata": {},
   "source": [
    "### no1NN titrate T4T4 & T4T1"
   ]
  },
  {
   "cell_type": "code",
   "execution_count": 104,
   "metadata": {
    "collapsed": true
   },
   "outputs": [],
   "source": [
    "types = ratios[:1]\n",
    "num = 50\n",
    "prefix = 'no1NN_T4frac84/swap_no1NN_T4frac84_titration_T4T4_T1T4_{}_{}.p'\n",
    "savefileprefix = 'no1NN_T4frac84/swap_no1NN_T4frac84_titration_T4T4_T1T4_{}_summary.p'\n",
    "results = combine_titration_files(prefix, types, num, savefileprefix)"
   ]
  },
  {
   "cell_type": "code",
   "execution_count": 105,
   "metadata": {},
   "outputs": [
    {
     "data": {
      "text/plain": [
       "0.21066666666666667"
      ]
     },
     "execution_count": 105,
     "metadata": {},
     "output_type": "execute_result"
    }
   ],
   "source": [
    "np.mean(results['total'])/(1/(1+15)*972)"
   ]
  },
  {
   "cell_type": "code",
   "execution_count": 106,
   "metadata": {},
   "outputs": [
    {
     "data": {
      "text/plain": [
       "0.19705349794238683"
      ]
     },
     "execution_count": 106,
     "metadata": {},
     "output_type": "execute_result"
    }
   ],
   "source": [
    "np.mean(results['2-27'])/(1/(1+15)*972)"
   ]
  },
  {
   "cell_type": "code",
   "execution_count": 107,
   "metadata": {},
   "outputs": [
    {
     "data": {
      "text/plain": [
       "0.013613168724279834"
      ]
     },
     "execution_count": 107,
     "metadata": {},
     "output_type": "execute_result"
    }
   ],
   "source": [
    "np.mean(results['2-20'])/(1/(1+15)*972)"
   ]
  },
  {
   "cell_type": "markdown",
   "metadata": {},
   "source": [
    "### no1NN titrate T4T4 & T4T1 Exc3Al"
   ]
  },
  {
   "cell_type": "code",
   "execution_count": 108,
   "metadata": {
    "collapsed": true
   },
   "outputs": [],
   "source": [
    "types = ratios[:1]\n",
    "num = 50\n",
    "prefix = 'no1NN_T4frac84/swap_no1NN_T4frac84_titration_T4T4_T1T4_EX3Al_{}_{}.p'\n",
    "savefileprefix = 'no1NN_T4frac84/swap_no1NN_T4frac84_titration_T4T4_T1T4_EX3Al_{}_summary.p'\n",
    "results = combine_titration_files(prefix, types, num, savefileprefix)"
   ]
  },
  {
   "cell_type": "code",
   "execution_count": 109,
   "metadata": {},
   "outputs": [
    {
     "data": {
      "text/plain": [
       "0.21046913580246912"
      ]
     },
     "execution_count": 109,
     "metadata": {},
     "output_type": "execute_result"
    }
   ],
   "source": [
    "np.mean(results['total'])/(1/(1+15)*972)"
   ]
  },
  {
   "cell_type": "code",
   "execution_count": 110,
   "metadata": {},
   "outputs": [
    {
     "data": {
      "text/plain": [
       "0.19705349794238683"
      ]
     },
     "execution_count": 110,
     "metadata": {},
     "output_type": "execute_result"
    }
   ],
   "source": [
    "np.mean(results['2-27'])/(1/(1+15)*972)"
   ]
  },
  {
   "cell_type": "code",
   "execution_count": 111,
   "metadata": {},
   "outputs": [
    {
     "data": {
      "text/plain": [
       "0.013415637860082303"
      ]
     },
     "execution_count": 111,
     "metadata": {},
     "output_type": "execute_result"
    }
   ],
   "source": [
    "np.mean(results['2-20'])/(1/(1+15)*972)"
   ]
  },
  {
   "cell_type": "markdown",
   "metadata": {},
   "source": [
    "### T4 frac var"
   ]
  },
  {
   "cell_type": "code",
   "execution_count": 10,
   "metadata": {
    "collapsed": true
   },
   "outputs": [],
   "source": [
    "def combine_count_files(prefix, ratios, types, num, savefileprefix):\n",
    "    for ratio in ratios:\n",
    "        results = {}\n",
    "        for t in types:\n",
    "            results[t] = []\n",
    "        results['total 2-body'] = []\n",
    "        for i in range(1, num+1):\n",
    "            filename = prefix.format(ratio, i)\n",
    "            temp = pickle.load(open(filename, 'rb'))\n",
    "            for t in types:\n",
    "                results[t].extend(temp[t])\n",
    "            results['total 2-body'].extend([temp['2-20'][j]+temp['2-27'][j] for j,num in enumerate(temp['2-20'])])\n",
    "        #print(results)\n",
    "        pickle.dump(results,open(savefileprefix.format(ratio),'wb'))\n",
    "    return results  "
   ]
  },
  {
   "cell_type": "code",
   "execution_count": 11,
   "metadata": {
    "collapsed": true
   },
   "outputs": [],
   "source": [
    "def combine_titration_files(prefix, ratios, num, savefileprefix,both=True):\n",
    "    for ratio in ratios:\n",
    "        results = {}\n",
    "        if both:\n",
    "            results['2-20'] = []\n",
    "            results['total'] = []\n",
    "        results['2-27'] = []\n",
    "        for i in range(1, num+1):\n",
    "            filename = prefix.format(ratio, i)\n",
    "            temp = pickle.load(open(filename, 'rb'))\n",
    "            if both:\n",
    "                results['2-20'].extend(temp['2-20'])\n",
    "                results['total'].extend([temp['2-20'][j]+temp['2-27'][j]for j,num in enumerate(temp['2-20'])])\n",
    "            results['2-27'].extend(temp['2-27'])\n",
    "        pickle.dump(results,open(savefileprefix.format(ratio),'wb'))\n",
    "    return results  \n",
    "#[k] for k in range(len(temp['2-27'][0])) "
   ]
  },
  {
   "cell_type": "code",
   "execution_count": 14,
   "metadata": {
    "collapsed": true
   },
   "outputs": [],
   "source": [
    "def combine_all_files_frac_var(ratios,types, num, fracs):\n",
    "    types = types\n",
    "    num = num\n",
    "    for frac in fracs:\n",
    "        prefix = 'no1NN/swap_no1NN_T4frac'+str(frac)+'_count_T4T4_T1T4_{0}_{1}.p'\n",
    "        savefileprefix = 'no1NN/swap_no1NN_T4frac'+str(frac)+'_count_T4T4_T1T4_{0}_summary.p'\n",
    "        results = combine_count_files(prefix, ratios,types, num, savefileprefix)\n",
    "        prefix = 'no1NN/swap_no1NN_T4frac'+str(frac)+'_count_T4T4_T1T4_EX3Al_{0}_{1}.p'\n",
    "        savefileprefix = 'no1NN/swap_no1NN_T4frac'+str(frac)+'_count_T4T4_T1T4_EX3Al_{0}_summary.p'\n",
    "        results = combine_count_files(prefix, ratios, types, num, savefileprefix)\n",
    "        prefix = 'no1NN/swap_no1NN_T4frac'+str(frac)+'_titration_T4T4_T1T4_{0}_{1}.p'\n",
    "        savefileprefix = 'no1NN/swap_no1NN_T4frac'+str(frac)+'_titration_T4T4_T1T4_{0}_summary.p'\n",
    "        results = combine_titration_files(prefix, ratios, num, savefileprefix)\n",
    "        prefix = 'no1NN/swap_no1NN_T4frac'+str(frac)+'_titration_T4T4_T1T4_EX3Al_{0}_{1}.p'\n",
    "        savefileprefix = 'no1NN/swap_no1NN_T4frac'+str(frac)+'_titration_T4T4_T1T4_EX3Al_{0}_summary.p'\n",
    "        results = combine_titration_files(prefix, ratios, num, savefileprefix)\n",
    "    return"
   ]
  },
  {
   "cell_type": "code",
   "execution_count": 20,
   "metadata": {
    "collapsed": true
   },
   "outputs": [],
   "source": [
    "def combine_all_files(ratios,types, num):\n",
    "    types = types\n",
    "    num = num\n",
    "    prefix = 'no1NN/swap_no1NN_count_T4T4_T1T4_{0}_{1}.p'\n",
    "    savefileprefix = 'no1NN/swap_no1NN_count_T4T4_T1T4_{0}_summary.p'\n",
    "    results = combine_count_files(prefix, ratios,types, num, savefileprefix)\n",
    "    prefix = 'no1NN/swap_no1NN_count_T4T4_T1T4_EX3Al_{0}_{1}.p'\n",
    "    savefileprefix = 'no1NN/swap_no1NN_count_T4T4_T1T4_EX3Al_{0}_summary.p'\n",
    "    results = combine_count_files(prefix, ratios, types, num, savefileprefix)\n",
    "    prefix = 'no1NN/swap_no1NN_titration_T4T4_T1T4_{0}_{1}.p'\n",
    "    savefileprefix = 'no1NN/swap_no1NN_titration_T4T4_T1T4_{0}_summary.p'\n",
    "    results = combine_titration_files(prefix, ratios, num, savefileprefix)\n",
    "    prefix = 'no1NN/swap_no1NN_titration_T4T4_T1T4_EX3Al_{0}_{1}.p'\n",
    "    savefileprefix = 'no1NN/swap_no1NN_titration_T4T4_T1T4_EX3Al_{0}_summary.p'\n",
    "    results = combine_titration_files(prefix, ratios, num, savefileprefix)\n",
    "    return"
   ]
  },
  {
   "cell_type": "code",
   "execution_count": 21,
   "metadata": {
    "collapsed": true
   },
   "outputs": [],
   "source": [
    "ratios = [3,5,7,10,15,20,25,30,35,40]\n",
    "types = ['1-1','1-2','1-3','1-4','2-20','2-27']\n",
    "num=50\n",
    "combine_all_files(ratios,types, num)\n"
   ]
  },
  {
   "cell_type": "code",
   "execution_count": 15,
   "metadata": {
    "collapsed": true
   },
   "outputs": [],
   "source": [
    "ratios = [15]\n",
    "fracs = [75,80,85,90,95]\n",
    "types = ['1-1','1-2','1-3','1-4','2-20','2-27']\n",
    "num=50\n",
    "for frac in fracs:\n",
    "    combine_all_files_frac_var(ratios,types, num, fracs)\n",
    "\n",
    "ratios = [9]\n",
    "fracs = [40,45,50,55,60]\n",
    "\n",
    "for frac in fracs:\n",
    "    combine_all_files_frac_var(ratios,types, num, fracs)"
   ]
  },
  {
   "cell_type": "code",
   "execution_count": 112,
   "metadata": {
    "collapsed": true
   },
   "outputs": [],
   "source": [
    "types = ['1-1','1-2','1-3','1-4','2-20','2-27']\n",
    "num = 50\n",
    "prefix = 'no1NNnoT4T4_T4frac84/swap_no1NNnoT4T4_T4frac84_count_T4T4_T1T4_{}_{}.p'\n",
    "savefileprefix = 'no1NNnoT4T4_T4frac84/swap_no1NNnoT4T4_T4frac84_count_T4T4_T1T4_{}_summary.p'\n",
    "results = combine_count_files(prefix, ratios,types, num, savefileprefix)"
   ]
  },
  {
   "cell_type": "code",
   "execution_count": 83,
   "metadata": {
    "collapsed": true
   },
   "outputs": [],
   "source": [
    "types = ['1-1','1-2','1-3','1-4','2-20','2-27']\n",
    "num = 50\n",
    "prefix = 'no1NNnoT4T4_T4frac84/swap_no1NNnoT4T4_T4frac84_count_T4T4_T1T4_EX3Al_{}_{}.p'\n",
    "savefileprefix = 'no1NNnoT4T4_T4frac84/swap_no1NNnoT4T4_T4frac84_count_T4T4_T1T4_EX3Al_{}_summary.p'\n",
    "results = combine_count_files(prefix, ratios[:1], types, num, savefileprefix)"
   ]
  },
  {
   "cell_type": "code",
   "execution_count": 98,
   "metadata": {
    "collapsed": true
   },
   "outputs": [],
   "source": [
    "types = ratios[:1]\n",
    "num = 50\n",
    "prefix = 'no1NNnoT4T4_T4frac84/swap_no1NNnoT4T4_T4frac84_titration_T4T4_T1T4_{}_{}.p'\n",
    "savefileprefix = 'no1NNnoT4T4_T4frac84/swap_no1NNnoT4T4_T4frac84_titration_T4T4_T1T4_{}_summary.p'\n",
    "results = combine_titration_files(prefix, types, num, savefileprefix)"
   ]
  },
  {
   "cell_type": "code",
   "execution_count": 100,
   "metadata": {
    "collapsed": true
   },
   "outputs": [],
   "source": [
    "types = ratios[:1]\n",
    "num = 50\n",
    "prefix = 'no1NNnoT4T4_T4frac84/swap_no1NNnoT4T4_T4frac84_titration_T4T4_T1T4_EX3Al_{}_{}.p'\n",
    "savefileprefix = 'no1NNnoT4T4_T4frac84/swap_no1NNnoT4T4_T4frac84_titration_T4T4_T1T4_EX3Al_{}_summary.p'\n",
    "results = combine_titration_files(prefix, types, num, savefileprefix)"
   ]
  },
  {
   "cell_type": "code",
   "execution_count": null,
   "metadata": {
    "collapsed": true
   },
   "outputs": [],
   "source": []
  }
 ],
 "metadata": {
  "kernelspec": {
   "display_name": "Python 3",
   "language": "python",
   "name": "python3"
  },
  "language_info": {
   "codemirror_mode": {
    "name": "ipython",
    "version": 3
   },
   "file_extension": ".py",
   "mimetype": "text/x-python",
   "name": "python",
   "nbconvert_exporter": "python",
   "pygments_lexer": "ipython3",
   "version": "3.6.1"
  }
 },
 "nbformat": 4,
 "nbformat_minor": 2
}
