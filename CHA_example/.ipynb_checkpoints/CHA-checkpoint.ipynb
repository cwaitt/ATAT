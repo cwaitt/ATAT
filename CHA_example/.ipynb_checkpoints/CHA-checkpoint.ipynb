{
 "cells": [
  {
   "cell_type": "markdown",
   "metadata": {},
   "source": [
    "### Modeling of Cluster Distributions"
   ]
  },
  {
   "cell_type": "markdown",
   "metadata": {},
   "source": [
    "The objectives of this demo are to 1) introduce the four goals that we would like to achieve by developing this cluster counting module, 2) explain the algorithms for each goal, and 3) demonstrate the procedures to achieve each goal with examples. This report includes five parts as below."
   ]
  },
  {
   "cell_type": "markdown",
   "metadata": {},
   "source": [
    "1. Introduction\n",
    "2. Goal One - Identify Distinct Clusters (understand the lattice/structure)\n",
    "3. Goal Two - Count Clusters\n",
    "4. Goal Three - Generate Random Structures With/Without Rules\n",
    "5. Goal Four - Titrate Clusters"
   ]
  },
  {
   "cell_type": "markdown",
   "metadata": {},
   "source": [
    "### Introduction"
   ]
  },
  {
   "cell_type": "markdown",
   "metadata": {},
   "source": [
    "The reactivity of meterials always depends on the distribution of important groups of atoms. Here we will refer the important groups of atoms as clusters. Given the bulk material property, such as the element ratio, we want to compute the distributions of the clusters in order to quantitatively understand the reactivity. The ultimate goal of this cluster counting module is to statistically compute the cluster distributions for different conditions, such as different crystal structures, different rules for atom locations, and different counting and titration priorities. This ultimate goal can be further divided into four specific goals. First, given a crystal structure, we want to understand the lattice and be able to identify distinct clusters. Next, we want to be able to count different type of clusters given a structure configuration (which specifies the atom type at each site). Thirdly, we would like to generate randome structure configurations for any given element ratio. Last, we want to titrate clusters one by one to avoid double counting clusters that share sites with each other. "
   ]
  },
  {
   "cell_type": "markdown",
   "metadata": {},
   "source": [
    "### Goal One - Identify Distinct Clusters (understand the lattice/structure)"
   ]
  },
  {
   "cell_type": "markdown",
   "metadata": {},
   "source": [
    "Algorithm \n",
    "\n",
    "To understand the distribution of clusters, we first need to distinguish between different clusters. Clusters differ from each other based on atom distances and symmetries. \n",
    "\n",
    "To achieve this goal, we took advantage of the Alloy Theoretic Automated Toolkit (ATAT) developed by Axel van de Walle. In ATAT, the corrdump program takes lattice parameters and site positions as input, determines the space group of the lattice, and find all symmetrically distinct clusters based on the space group. When analyzing distinct clusters, corrdump only count for sites which are possbile for at least two types of elements. The sites which can accommodate only one type of element will only help with analyzing symmetries. The installation and modification of ATAT can be found in supporting information."
   ]
  },
  {
   "cell_type": "markdown",
   "metadata": {},
   "source": [
    "Input:\n",
    "1. lat.in  \n",
    "2. str_dim.txt"
   ]
  },
  {
   "cell_type": "markdown",
   "metadata": {},
   "source": [
    "Procedures:\n",
    "1. Run the two python files (classes.py and utilities.py) which contain the useful functions in jupyter notebook (or import the them in a python file).\n",
    "        %run classes.py\n",
    "        %run utilities.py\n",
    "        (from classes import * )\n",
    "        (from utilities import *)\n",
    "2. Initialize a class of Lattice with lat.in: \n",
    "        Lattice(folder_path for lat.in)\n",
    "3. Run corrdump program to generate clusters.out file containing the information for each cluster type: \n",
    "        corrdump -l=[lat.in file path] -cf=[clusters.out file path] -2=[max distance for 2-body cluster] -3=[max distance for 3-body cluster]\n",
    "4. Visualize the cluster example given by corrdump for each type: \n",
    "        lattice.read_clusters_out()\n",
    "        lattice.visualize_cluster(cluster_type)\n",
    "5. Initialize a class of Structure with lattice parameters and structure dimensions, and prepare str.out: \n",
    "        Structure(lattice, folder_path for lat.in and str_dim.txt)\n",
    "        structure.prepare_str_out()\n",
    "6. Run corrdump program to generate a full list of clusters for a super cell defined by the structure dimensions:\n",
    "        corrdump -l=[lat.in file path] -s=[str.out file path] -cf=[clusters.out file path] -2=[max distance for 2-body cluster] -3=[max distance for 3-body cluster] >> [cluster_list.csv file path]\n",
    "7. Read the full cluster list and visulaize clusters for each type:\n",
    "        structure.read_cluster_list()\n",
    "        structure.visualize_one_cluster_one_example()"
   ]
  },
  {
   "cell_type": "markdown",
   "metadata": {},
   "source": [
    "Output:\n",
    "1. A lattice class which contains:  \n",
    "1) lattice parameters: a, b, c, alpha, beta, gamma  \n",
    "2) lattice constants: u, v, w  \n",
    "3) sites information: site index, atom types, xyz coordinates, fractional coordinates  \n",
    "4) cluster types: number of atoms in the cluster, maximum distance between two atoms in the cluster, multiplicity in one lattice unit cell, one example cluster represented in fractional coordinates for each type.  \n",
    "        \n",
    "2. A structure class which contains:   \n",
    "1) lattice parameters: a, b, c, alpha, beta, gamma  \n",
    "2) lattice constants: u, v, w  \n",
    "3) structure constants: nu, nv, nw  \n",
    "4) sites information stored in a dataframe: site index, atom types, xyz coordinates, fractional coordinates  \n",
    "5) cluster types: all clusters represented in fractional coordinates, in xyz coordinates in site indices for each type in one super cell.  "
   ]
  },
  {
   "cell_type": "markdown",
   "metadata": {},
   "source": [
    "Example:"
   ]
  },
  {
   "cell_type": "code",
   "execution_count": 10,
   "metadata": {
    "collapsed": true
   },
   "outputs": [],
   "source": [
    "#import other useful packages\n",
    "import pandas as pd\n",
    "import numpy as np\n",
    "import os\n",
    "from ase import Atoms\n",
    "from ase.io import read, write\n",
    "from ase.visualize import view"
   ]
  },
  {
   "cell_type": "code",
   "execution_count": 11,
   "metadata": {
    "collapsed": true
   },
   "outputs": [],
   "source": [
    "#run the two python files\n",
    "%run classes.py\n",
    "%run utilities.py"
   ]
  },
  {
   "cell_type": "code",
   "execution_count": 12,
   "metadata": {
    "collapsed": true
   },
   "outputs": [],
   "source": [
    "#prepare lat.in and str_dim.txt for simple cube and put them in the folder called simple_cube \n",
    "folder_path = 'jobs'\n",
    "#initialize a class of Lattice with lat.in:\n",
    "lattice = Lattice(folder_path)"
   ]
  },
  {
   "cell_type": "code",
   "execution_count": 13,
   "metadata": {},
   "outputs": [
    {
     "data": {
      "text/plain": [
       "256"
      ]
     },
     "execution_count": 13,
     "metadata": {},
     "output_type": "execute_result"
    }
   ],
   "source": [
    "#set the maxmum distances between 2 atoms in 2-body clusters and that in 3-body clusters\n",
    "maxdis_2 = 11\n",
    "#maxdis_3 = 15\n",
    "#run corrdump to generate clusters.out file in terminal:\n",
    "#the folder path for lat.in and clusters.out has been specified before\n",
    "#the return of this line of code is either 0 or 256: 0 means no error message, and 256 means there is at least one error message; you can see the error messages in the terminal; if there is no str.out file, it should return 256 and there should be an error message (Unable to open structure file) in terminal; that's fine.\n",
    "os.system('corrdump -l={0}/lat.in -cf={0}/clusters.out -2={1}'.format(folder_path, maxdis_2))"
   ]
  },
  {
   "cell_type": "code",
   "execution_count": 14,
   "metadata": {
    "collapsed": true
   },
   "outputs": [],
   "source": [
    "#read clusters.out\n",
    "lattice.read_clusters_out()"
   ]
  },
  {
   "cell_type": "code",
   "execution_count": 15,
   "metadata": {},
   "outputs": [
    {
     "data": {
      "text/plain": [
       "[1, 1, 51, 0, 0, 0, 0, 0, 0, 0]"
      ]
     },
     "execution_count": 15,
     "metadata": {},
     "output_type": "execute_result"
    }
   ],
   "source": [
    "lattice.cluster_type_numbers"
   ]
  },
  {
   "cell_type": "code",
   "execution_count": 16,
   "metadata": {},
   "outputs": [
    {
     "data": {
      "text/plain": [
       "{'eg_frac': [array([0.66697, 0.56003, 1.22823]),\n",
       "  array([1.33303, 0.89307, 0.77177])],\n",
       " 'm': 18,\n",
       " 'max_d': 10.37589}"
      ]
     },
     "execution_count": 16,
     "metadata": {},
     "output_type": "execute_result"
    }
   ],
   "source": [
    "lattice.clusters['2-43']"
   ]
  },
  {
   "cell_type": "code",
   "execution_count": 19,
   "metadata": {
    "collapsed": true
   },
   "outputs": [],
   "source": [
    "cluster_type='2-19'\n",
    "lattice.visualize_cluster(cluster_type)\n",
    "c= read(folder_path+'/lattice_clusters/xyzs/cluster-{}.xyz'.format(cluster_type))"
   ]
  },
  {
   "cell_type": "code",
   "execution_count": 39,
   "metadata": {
    "collapsed": true
   },
   "outputs": [],
   "source": [
    "#visualize the cluster example given by corrdump for one type\n",
    "for i in range (1,41):\n",
    "    cluster_type='2-'+str(i)\n",
    "    lattice.visualize_cluster(cluster_type)\n",
    "    c= read(folder_path+'/lattice_clusters/xyzs/cluster-{}.xyz'.format(cluster_type))"
   ]
  },
  {
   "cell_type": "code",
   "execution_count": 20,
   "metadata": {
    "collapsed": true
   },
   "outputs": [],
   "source": [
    "#initialize a class of Structure with lattice parameters and structure dimensions\n",
    "structure = Structure(lattice=lattice, folder_path=folder_path)\n",
    "structure.prepare_str_out()"
   ]
  },
  {
   "cell_type": "code",
   "execution_count": 21,
   "metadata": {},
   "outputs": [
    {
     "data": {
      "text/plain": [
       "0"
      ]
     },
     "execution_count": 21,
     "metadata": {},
     "output_type": "execute_result"
    }
   ],
   "source": [
    "#run corrdump program in terminal to generate a full list of clusters for a super cell defined by the structure dimensions; again, the return of this line of code is either 0 or 256: 0 means no error message, and 256 means there is at least one error message; you can see the error messages in the terminal\n",
    "\n",
    "os.system('corrdump -l={0}/lat.in -s={0}/str.out -cf={0}/clusters.out -2={1} >> {0}/cluster_list.csv'.format(folder_path, maxdis_2))"
   ]
  },
  {
   "cell_type": "code",
   "execution_count": 22,
   "metadata": {
    "collapsed": true
   },
   "outputs": [],
   "source": [
    "#read the full cluster list and visulaize clusters for each type\n",
    "structure.read_cluster_list()"
   ]
  },
  {
   "cell_type": "code",
   "execution_count": 23,
   "metadata": {
    "collapsed": true
   },
   "outputs": [],
   "source": [
    "#create xyz and image files for clusters in a specific type\n",
    "cluster_type='2-11'\n",
    "structure.visualize_one_cluster_type_all_examples(cluster_type)"
   ]
  },
  {
   "cell_type": "code",
   "execution_count": 24,
   "metadata": {
    "collapsed": true
   },
   "outputs": [],
   "source": [
    "import pickle\n",
    "pickle.dump(lattice,open(folder_path+\"/lattice.p\",\"wb\"))"
   ]
  },
  {
   "cell_type": "code",
   "execution_count": 25,
   "metadata": {
    "collapsed": true
   },
   "outputs": [],
   "source": [
    "pickle.dump(structure,open(folder_path+\"/structure.p\",\"wb\"))"
   ]
  },
  {
   "cell_type": "code",
   "execution_count": 26,
   "metadata": {
    "collapsed": true
   },
   "outputs": [],
   "source": [
    "penalty={'2-1':20,'2-2':20,'2-3':20,'2-4':20 }"
   ]
  },
  {
   "cell_type": "code",
   "execution_count": 27,
   "metadata": {
    "collapsed": true
   },
   "outputs": [],
   "source": [
    "pickle.dump(penalty,open(folder_path+\"/penalty.p\",\"wb\"))"
   ]
  }
 ],
 "metadata": {
  "kernelspec": {
   "display_name": "Python 3",
   "language": "python",
   "name": "python3"
  },
  "language_info": {
   "codemirror_mode": {
    "name": "ipython",
    "version": 3
   },
   "file_extension": ".py",
   "mimetype": "text/x-python",
   "name": "python",
   "nbconvert_exporter": "python",
   "pygments_lexer": "ipython3",
   "version": "3.6.1"
  }
 },
 "nbformat": 4,
 "nbformat_minor": 2
}
